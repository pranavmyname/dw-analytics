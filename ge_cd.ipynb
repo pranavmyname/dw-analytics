{
 "cells": [
  {
   "cell_type": "code",
   "execution_count": 1,
   "metadata": {},
   "outputs": [],
   "source": [
    "# import rasterio\n",
    "%load_ext autoreload\n",
    "%autoreload 2\n",
    "import numpy as np\n",
    "import matplotlib.pyplot as plt\n",
    "# from shapely.geometry import Polygon, box\n",
    "# import geopandas as gpd\n",
    "import ee\n",
    "import geemap\n",
    "# from rasterio import features\n",
    "import json\n",
    "import os\n",
    "import folium\n",
    "# ee.Authenticate()\n",
    "ee.Initialize()\n"
   ]
  },
  {
   "cell_type": "code",
   "execution_count": 2,
   "metadata": {},
   "outputs": [],
   "source": [
    "from tools import filteringModule"
   ]
  },
  {
   "cell_type": "code",
   "execution_count": 3,
   "metadata": {},
   "outputs": [
    {
     "name": "stdout",
     "output_type": "stream",
     "text": [
      "Help on class Filter in module ee.filter:\n",
      "\n",
      "class Filter(ee.computedobject.ComputedObject)\n",
      " |  Filter(*args, **kwargs)\n",
      " |  \n",
      " |  An object to represent collection filters.\n",
      " |  \n",
      " |  Method resolution order:\n",
      " |      Filter\n",
      " |      ee.computedobject.ComputedObject\n",
      " |      ee.encodable.Encodable\n",
      " |      builtins.object\n",
      " |  \n",
      " |  Methods defined here:\n",
      " |  \n",
      " |  Not(self)\n",
      " |      Returns the opposite of this filter.\n",
      " |      \n",
      " |      Returns:\n",
      " |        The negated filter, which will match iff this filter doesn't.\n",
      " |  \n",
      " |  __init__(self, opt_filter=None)\n",
      " |      Construct a filter.\n",
      " |      \n",
      " |      This constructor accepts the following args:\n",
      " |        1) Another filter.\n",
      " |        2) An array of filters (which are implicitly ANDed together).\n",
      " |        3) A ComputedObject returning a filter. Users shouldn't be making these;\n",
      " |           they're produced by the generator functions below.\n",
      " |      \n",
      " |      Args:\n",
      " |        opt_filter: Optional filter to add.\n",
      " |  \n",
      " |  predicateCount(self)\n",
      " |      Return the number of predicates that have been added to this filter.\n",
      " |      \n",
      " |      Returns:\n",
      " |        The number of predicates that have been added to this filter.\n",
      " |        This does not count nested predicates.\n",
      " |  \n",
      " |  ----------------------------------------------------------------------\n",
      " |  Class methods defined here:\n",
      " |  \n",
      " |  initialize() from ee.computedobject.ComputedObjectMetaclass\n",
      " |      Imports API functions to this class.\n",
      " |  \n",
      " |  reset() from ee.computedobject.ComputedObjectMetaclass\n",
      " |      Removes imported API functions from this class.\n",
      " |  \n",
      " |  ----------------------------------------------------------------------\n",
      " |  Static methods defined here:\n",
      " |  \n",
      " |  And(*args)\n",
      " |      Combine two or more filters using boolean AND.\n",
      " |  \n",
      " |  Or(*args)\n",
      " |      Combine two or more filters using boolean OR.\n",
      " |  \n",
      " |  always = Filter.always(*args, **kwargs)\n",
      " |      Simple filter ALWAYS.\n",
      " |  \n",
      " |  area = Filter.area(*args, **kwargs)\n",
      " |      Returns a filter that passes if the specified geometry has an area within\n",
      " |      the given range (inclusive).\n",
      " |      \n",
      " |      Args:\n",
      " |        min: Minimum area in square meters (inclusive).\n",
      " |        max: Maximum area in square meters (inclusive).\n",
      " |        maxError: The maximum allowed error for computing the\n",
      " |            geometry's area.\n",
      " |        geometrySelector: The name of the geometry property\n",
      " |            to use for filtering. Leave blank or use '.geo'\n",
      " |            to operate on the object's geometry.\n",
      " |  \n",
      " |  bounds(geometry, opt_errorMargin=None)\n",
      " |      Filter on intersection with geometry.\n",
      " |      \n",
      " |      Items in the collection with a footprint that fails to intersect\n",
      " |      the given geometry will be excluded. This is an alias for geometry().\n",
      " |      \n",
      " |      Caution: providing a large or complex collection as the `geometry` argument\n",
      " |      can result in poor performance. Collating the geometry of collections does\n",
      " |      not scale well; use the smallest collection (or geometry) that is required\n",
      " |      to achieve the desired outcome.\n",
      " |      \n",
      " |      Args:\n",
      " |        geometry: The geometry to filter to either as a GeoJSON geometry,\n",
      " |            or a FeatureCollection, from which a geometry will be extracted.\n",
      " |        opt_errorMargin: An optional error margin. If a number, interpreted as\n",
      " |            sphere surface meters.\n",
      " |      \n",
      " |      Returns:\n",
      " |        The constructed filter.\n",
      " |  \n",
      " |  calendarRange = Filter.calendarRange(*args, **kwargs)\n",
      " |      Returns a filter that passes if the object's timestamp falls within the\n",
      " |      given range of a calendar field. The `month`, `day_of_year`,\n",
      " |      `day_of_month`, and `day_of_week` are 1-based. Times are assumed to be in\n",
      " |      UTC. Weeks are assumed to begin on Monday as day 1. If `end` < `start` then\n",
      " |      this tests for `value` >= `start` OR `value` <= `end`, to allow for\n",
      " |      wrapping.\n",
      " |      \n",
      " |      Args:\n",
      " |        start: The start of the desired calendar field, inclusive.\n",
      " |        end: The end of the desired calendar field, inclusive. Defaults to\n",
      " |            the same value as start.\n",
      " |        field: The calendar field to filter over. Options are: `year`,\n",
      " |            `month`, `hour`, `minute`, `day_of_year`, `day_of_month`,\n",
      " |            and `day_of_week`.\n",
      " |  \n",
      " |  contains = Filter.contains(*args, **kwargs)\n",
      " |      Creates a unary or binary filter that passes if the left geometry contains\n",
      " |      the right geometry (empty geometries are not contained in anything).\n",
      " |      \n",
      " |      Args:\n",
      " |        leftField: A selector for the left operand. Should not be\n",
      " |            specified if leftValue is specified.\n",
      " |        rightValue: The value of the right operand. Should not be\n",
      " |            specified if rightField is specified.\n",
      " |        rightField: A selector for the right operand. Should not be\n",
      " |            specified if rightValue is specified.\n",
      " |        leftValue: The value of the left operand. Should not be\n",
      " |            specified if leftField is specified.\n",
      " |        maxError: The maximum reprojection error allowed during\n",
      " |            filter application.\n",
      " |  \n",
      " |  date(start, opt_end=None)\n",
      " |      Filter images by date.\n",
      " |      \n",
      " |      The start and end may be a Date, numbers (interpreted as milliseconds since\n",
      " |      1970-01-01T00:00:00Z), or strings (such as '1996-01-01T08:00'). Based on\n",
      " |      'system:time_start'.\n",
      " |      \n",
      " |      Args:\n",
      " |        start: The inclusive start date.\n",
      " |        opt_end: The optional exclusive end date, If not specified, a\n",
      " |                 1-millisecond range starting at 'start' is created.\n",
      " |      \n",
      " |      Returns:\n",
      " |        The modified filter.\n",
      " |  \n",
      " |  dateRangeContains = Filter.dateRangeContains(*args, **kwargs)\n",
      " |      Creates a unary or binary filter that passes if the left operand, a date\n",
      " |      range, contains the right operand, a date.\n",
      " |      \n",
      " |      Args:\n",
      " |        leftField: A selector for the left operand. Should not be\n",
      " |            specified if leftValue is specified.\n",
      " |        rightValue: The value of the right operand. Should not be\n",
      " |            specified if rightField is specified.\n",
      " |        rightField: A selector for the right operand. Should not be\n",
      " |            specified if rightValue is specified.\n",
      " |        leftValue: The value of the left operand. Should not be\n",
      " |            specified if leftField is specified.\n",
      " |  \n",
      " |  dayOfYear = Filter.dayOfYear(*args, **kwargs)\n",
      " |      Returns a filter that passes if the object's timestamp falls within the\n",
      " |      given day-of-year range.\n",
      " |      \n",
      " |      Args:\n",
      " |        start: The start of the desired day range, inclusive.\n",
      " |        end: The end of the desired day range, inclusive.\n",
      " |  \n",
      " |  disjoint = Filter.disjoint(*args, **kwargs)\n",
      " |      Creates a unary or binary filter that passes unless the left geometry\n",
      " |      intersects the right geometry.\n",
      " |      \n",
      " |      Args:\n",
      " |        leftField: A selector for the left operand. Should not be\n",
      " |            specified if leftValue is specified.\n",
      " |        rightValue: The value of the right operand. Should not be\n",
      " |            specified if rightField is specified.\n",
      " |        rightField: A selector for the right operand. Should not be\n",
      " |            specified if rightValue is specified.\n",
      " |        leftValue: The value of the left operand. Should not be\n",
      " |            specified if leftField is specified.\n",
      " |        maxError: The maximum reprojection error allowed during\n",
      " |            filter application.\n",
      " |  \n",
      " |  eq(name, value)\n",
      " |      Filter to metadata equal to the given value.\n",
      " |  \n",
      " |  equals = Filter.equals(*args, **kwargs)\n",
      " |      Creates a unary or binary filter that passes if the two operands are\n",
      " |      equals.\n",
      " |      \n",
      " |      Args:\n",
      " |        leftField: A selector for the left operand. Should not be\n",
      " |            specified if leftValue is specified.\n",
      " |        rightValue: The value of the right operand. Should not be\n",
      " |            specified if rightField is specified.\n",
      " |        rightField: A selector for the right operand. Should not be\n",
      " |            specified if rightValue is specified.\n",
      " |        leftValue: The value of the left operand. Should not be\n",
      " |            specified if leftField is specified.\n",
      " |  \n",
      " |  expression = Filter.expression(*args, **kwargs)\n",
      " |      Constructs a filter tree from a string.\n",
      " |      \n",
      " |      Args:\n",
      " |        expression: A string to be parsed into a Filter object\n",
      " |            (e.g.: \"property > value\"). Supported operators\n",
      " |            include: >, >=, <, <=, ==, !=, (), !, && and ||.\n",
      " |  \n",
      " |  geometry(geometry, opt_errorMargin=None)\n",
      " |      Filter on intersection with geometry.\n",
      " |      \n",
      " |      Items in the collection with a footprint that fails to intersect\n",
      " |      the given geometry will be excluded.\n",
      " |      \n",
      " |      Args:\n",
      " |        geometry: The geometry to filter to either as a GeoJSON geometry,\n",
      " |            or a FeatureCollection, from which a geometry will be extracted.\n",
      " |        opt_errorMargin: An optional error margin. If a number, interpreted as\n",
      " |            sphere surface meters.\n",
      " |      \n",
      " |      Returns:\n",
      " |        The constructed filter.\n",
      " |  \n",
      " |  greaterThan = Filter.greaterThan(*args, **kwargs)\n",
      " |      Creates a unary or binary filter that passes if the left operand is greater\n",
      " |      than the right operand.\n",
      " |      \n",
      " |      Args:\n",
      " |        leftField: A selector for the left operand. Should not be\n",
      " |            specified if leftValue is specified.\n",
      " |        rightValue: The value of the right operand. Should not be\n",
      " |            specified if rightField is specified.\n",
      " |        rightField: A selector for the right operand. Should not be\n",
      " |            specified if rightValue is specified.\n",
      " |        leftValue: The value of the left operand. Should not be\n",
      " |            specified if leftField is specified.\n",
      " |  \n",
      " |  greaterThanOrEquals = Filter.greaterThanOrEquals(*args, **kwargs)\n",
      " |      Creates a unary or binary filter that passes unless the left operand is\n",
      " |      less than the right operand.\n",
      " |      \n",
      " |      Args:\n",
      " |        leftField: A selector for the left operand. Should not be\n",
      " |            specified if leftValue is specified.\n",
      " |        rightValue: The value of the right operand. Should not be\n",
      " |            specified if rightField is specified.\n",
      " |        rightField: A selector for the right operand. Should not be\n",
      " |            specified if rightValue is specified.\n",
      " |        leftValue: The value of the left operand. Should not be\n",
      " |            specified if leftField is specified.\n",
      " |  \n",
      " |  gt(name, value)\n",
      " |      Filter on metadata greater than the given value.\n",
      " |  \n",
      " |  gte(name, value)\n",
      " |      Filter on metadata greater than or equal to the given value.\n",
      " |  \n",
      " |  hasGeometry = Filter.hasGeometry(*args, **kwargs)\n",
      " |      Simple filter HAS_GEOMETRY.\n",
      " |  \n",
      " |  hasType = Filter.hasType(*args, **kwargs)\n",
      " |      Creates a unary or binary filter that passes if the left operand has the\n",
      " |      type, or is a subtype of the type named in the right operand.\n",
      " |      \n",
      " |      Args:\n",
      " |        leftField: A selector for the left operand. Should not be\n",
      " |            specified if leftValue is specified.\n",
      " |        rightValue: The value of the right operand. Should not be\n",
      " |            specified if rightField is specified.\n",
      " |        rightField: A selector for the right operand. Should not be\n",
      " |            specified if rightValue is specified.\n",
      " |        leftValue: The value of the left operand. Should not be\n",
      " |            specified if leftField is specified.\n",
      " |  \n",
      " |  inList(opt_leftField=None, opt_rightValue=None, opt_rightField=None, opt_leftValue=None)\n",
      " |      Filter on metadata contained in a list.\n",
      " |      \n",
      " |      Args:\n",
      " |        opt_leftField: A selector for the left operand.\n",
      " |            Should not be specified if leftValue is specified.\n",
      " |        opt_rightValue: The value of the right operand.\n",
      " |            Should not be specified if rightField is specified.\n",
      " |        opt_rightField: A selector for the right operand.\n",
      " |            Should not be specified if rightValue is specified.\n",
      " |        opt_leftValue: The value of the left operand.\n",
      " |            Should not be specified if leftField is specified.\n",
      " |      \n",
      " |      Returns:\n",
      " |        The constructed filter.\n",
      " |  \n",
      " |  intersects = Filter.intersects(*args, **kwargs)\n",
      " |      Creates a unary or binary filter that passes if the left geometry\n",
      " |      intersects the right geometry.\n",
      " |      \n",
      " |      Args:\n",
      " |        leftField: A selector for the left operand. Should not be\n",
      " |            specified if leftValue is specified.\n",
      " |        rightValue: The value of the right operand. Should not be\n",
      " |            specified if rightField is specified.\n",
      " |        rightField: A selector for the right operand. Should not be\n",
      " |            specified if rightValue is specified.\n",
      " |        leftValue: The value of the left operand. Should not be\n",
      " |            specified if leftField is specified.\n",
      " |        maxError: The maximum reprojection error allowed during\n",
      " |            filter application.\n",
      " |  \n",
      " |  isContained = Filter.isContained(*args, **kwargs)\n",
      " |      Creates a unary or binary filter that passes if the right geometry contains\n",
      " |      the left geometry (empty geometries are not contained in anything).\n",
      " |      \n",
      " |      Args:\n",
      " |        leftField: A selector for the left operand. Should not be\n",
      " |            specified if leftValue is specified.\n",
      " |        rightValue: The value of the right operand. Should not be\n",
      " |            specified if rightField is specified.\n",
      " |        rightField: A selector for the right operand. Should not be\n",
      " |            specified if rightValue is specified.\n",
      " |        leftValue: The value of the left operand. Should not be\n",
      " |            specified if leftField is specified.\n",
      " |        maxError: The maximum reprojection error allowed during\n",
      " |            filter application.\n",
      " |  \n",
      " |  lessThan = Filter.lessThan(*args, **kwargs)\n",
      " |      Creates a unary or binary filter that passes if the left operand is less\n",
      " |      than the right operand.\n",
      " |      \n",
      " |      Args:\n",
      " |        leftField: A selector for the left operand. Should not be\n",
      " |            specified if leftValue is specified.\n",
      " |        rightValue: The value of the right operand. Should not be\n",
      " |            specified if rightField is specified.\n",
      " |        rightField: A selector for the right operand. Should not be\n",
      " |            specified if rightValue is specified.\n",
      " |        leftValue: The value of the left operand. Should not be\n",
      " |            specified if leftField is specified.\n",
      " |  \n",
      " |  lessThanOrEquals = Filter.lessThanOrEquals(*args, **kwargs)\n",
      " |      Creates a unary or binary filter that passes unless the left operand is\n",
      " |      greater than the right operand.\n",
      " |      \n",
      " |      Args:\n",
      " |        leftField: A selector for the left operand. Should not be\n",
      " |            specified if leftValue is specified.\n",
      " |        rightValue: The value of the right operand. Should not be\n",
      " |            specified if rightField is specified.\n",
      " |        rightField: A selector for the right operand. Should not be\n",
      " |            specified if rightValue is specified.\n",
      " |        leftValue: The value of the left operand. Should not be\n",
      " |            specified if leftField is specified.\n",
      " |  \n",
      " |  listContains = Filter.listContains(*args, **kwargs)\n",
      " |      Creates a unary or binary filter that passes if the left operand, a list,\n",
      " |      contains the right operand.\n",
      " |      \n",
      " |      Args:\n",
      " |        leftField: A selector for the left operand. Should not be\n",
      " |            specified if leftValue is specified.\n",
      " |        rightValue: The value of the right operand. Should not be\n",
      " |            specified if rightField is specified.\n",
      " |        rightField: A selector for the right operand. Should not be\n",
      " |            specified if rightValue is specified.\n",
      " |        leftValue: The value of the left operand. Should not be\n",
      " |            specified if leftField is specified.\n",
      " |  \n",
      " |  lt(name, value)\n",
      " |      Filter to metadata less than the given value.\n",
      " |  \n",
      " |  lte(name, value)\n",
      " |      Filter on metadata less than or equal to the given value.\n",
      " |  \n",
      " |  maxDifference = Filter.maxDifference(*args, **kwargs)\n",
      " |      Creates a unary or binary filter that passes if the left and right\n",
      " |      operands, both numbers, are within a given maximum difference. If used as a\n",
      " |      join condition, this numeric difference is used as a join measure.\n",
      " |      \n",
      " |      Args:\n",
      " |        difference: The maximum difference for which the filter\n",
      " |            will return true.\n",
      " |        leftField: A selector for the left operand. Should not be\n",
      " |            specified if leftValue is specified.\n",
      " |        rightValue: The value of the right operand. Should not be\n",
      " |            specified if rightField is specified.\n",
      " |        rightField: A selector for the right operand. Should not be\n",
      " |            specified if rightValue is specified.\n",
      " |        leftValue: The value of the left operand. Should not be\n",
      " |            specified if leftField is specified.\n",
      " |  \n",
      " |  metadata_(name, operator, value)\n",
      " |      Filter on metadata. This is deprecated.\n",
      " |      \n",
      " |      Args:\n",
      " |        name: The property name to filter on.\n",
      " |        operator: The type of comparison. One of:\n",
      " |            \"equals\", \"less_than\", \"greater_than\", \"contains\", \"begins_with\",\n",
      " |            \"ends_with\", or any of these prefixed with \"not_\".\n",
      " |        value: The value to compare against.\n",
      " |      \n",
      " |      Returns:\n",
      " |        The new filter.\n",
      " |      \n",
      " |      Deprecated.  Use ee.Filter.eq(), ee.Filter.gte(), etc.'\n",
      " |  \n",
      " |  name()\n",
      " |      Returns the name of the object, used in __str__().\n",
      " |  \n",
      " |  neq(name, value)\n",
      " |      Filter to metadata not equal to the given value.\n",
      " |  \n",
      " |  never = Filter.never(*args, **kwargs)\n",
      " |      Simple filter NEVER.\n",
      " |  \n",
      " |  notEquals = Filter.notEquals(*args, **kwargs)\n",
      " |      Creates a unary or binary filter that passes unless the two operands are\n",
      " |      equals.\n",
      " |      \n",
      " |      Args:\n",
      " |        leftField: A selector for the left operand. Should not be\n",
      " |            specified if leftValue is specified.\n",
      " |        rightValue: The value of the right operand. Should not be\n",
      " |            specified if rightField is specified.\n",
      " |        rightField: A selector for the right operand. Should not be\n",
      " |            specified if rightValue is specified.\n",
      " |        leftValue: The value of the left operand. Should not be\n",
      " |            specified if leftField is specified.\n",
      " |  \n",
      " |  notNull = Filter.notNull(*args, **kwargs)\n",
      " |      Returns a filter that passes if all the named properties are not null.\n",
      " |      \n",
      " |      Args:\n",
      " |        properties:\n",
      " |  \n",
      " |  rangeContains = Filter.rangeContains(*args, **kwargs)\n",
      " |      Returns a filter that passes if the value of the selected field is in the\n",
      " |      specified range (inclusive).\n",
      " |      \n",
      " |      Args:\n",
      " |        field: A selector for the property being tested.\n",
      " |        minValue: The lower bound of the range.\n",
      " |        maxValue: The upper bound of the range.\n",
      " |  \n",
      " |  stringContains = Filter.stringContains(*args, **kwargs)\n",
      " |      Creates a unary or binary filter that passes if the left operand, a string,\n",
      " |      contains the right operand, also a string.\n",
      " |      \n",
      " |      Args:\n",
      " |        leftField: A selector for the left operand. Should not be\n",
      " |            specified if leftValue is specified.\n",
      " |        rightValue: The value of the right operand. Should not be\n",
      " |            specified if rightField is specified.\n",
      " |        rightField: A selector for the right operand. Should not be\n",
      " |            specified if rightValue is specified.\n",
      " |        leftValue: The value of the left operand. Should not be\n",
      " |            specified if leftField is specified.\n",
      " |  \n",
      " |  stringEndsWith = Filter.stringEndsWith(*args, **kwargs)\n",
      " |      Creates a unary or binary filter that passes if the left operand, a string,\n",
      " |      ends with the right operand, also a string.\n",
      " |      \n",
      " |      Args:\n",
      " |        leftField: A selector for the left operand. Should not be\n",
      " |            specified if leftValue is specified.\n",
      " |        rightValue: The value of the right operand. Should not be\n",
      " |            specified if rightField is specified.\n",
      " |        rightField: A selector for the right operand. Should not be\n",
      " |            specified if rightValue is specified.\n",
      " |        leftValue: The value of the left operand. Should not be\n",
      " |            specified if leftField is specified.\n",
      " |  \n",
      " |  stringStartsWith = Filter.stringStartsWith(*args, **kwargs)\n",
      " |      Creates a unary or binary filter that passes if the left operand, a string,\n",
      " |      starts with the right operand, also a string.\n",
      " |      \n",
      " |      Args:\n",
      " |        leftField: A selector for the left operand. Should not be\n",
      " |            specified if leftValue is specified.\n",
      " |        rightValue: The value of the right operand. Should not be\n",
      " |            specified if rightField is specified.\n",
      " |        rightField: A selector for the right operand. Should not be\n",
      " |            specified if rightValue is specified.\n",
      " |        leftValue: The value of the left operand. Should not be\n",
      " |            specified if leftField is specified.\n",
      " |  \n",
      " |  withinDistance = Filter.withinDistance(*args, **kwargs)\n",
      " |      Creates a unary or binary filter that passes if the left geometry is within\n",
      " |      a specified distance of the right geometry. If used as a join condition,\n",
      " |      this distance is used as a join measure.\n",
      " |      \n",
      " |      Args:\n",
      " |        distance: The maximum distance for which the filter will\n",
      " |            return true.\n",
      " |        leftField: A selector for the left operand. Should not be\n",
      " |            specified if leftValue is specified.\n",
      " |        rightValue: The value of the right operand. Should not be\n",
      " |            specified if rightField is specified.\n",
      " |        rightField: A selector for the right operand. Should not be\n",
      " |            specified if rightValue is specified.\n",
      " |        leftValue: The value of the left operand. Should not be\n",
      " |            specified if leftField is specified.\n",
      " |        maxError: The maximum reprojection error allowed during\n",
      " |            filter application.\n",
      " |  \n",
      " |  ----------------------------------------------------------------------\n",
      " |  Methods inherited from ee.computedobject.ComputedObject:\n",
      " |  \n",
      " |  __eq__(self, other)\n",
      " |      Return self==value.\n",
      " |  \n",
      " |  __hash__(self)\n",
      " |      Return hash(self).\n",
      " |  \n",
      " |  __ne__(self, other)\n",
      " |      Return self!=value.\n",
      " |  \n",
      " |  __str__(self)\n",
      " |      Writes out the object in a human-readable form.\n",
      " |  \n",
      " |  aside(self, func, *var_args)\n",
      " |      Calls a function passing this object as the first argument.\n",
      " |      \n",
      " |      Returns the object itself for chaining. Convenient e.g. when debugging:\n",
      " |      \n",
      " |      c = (ee.ImageCollection('foo').aside(logging.info)\n",
      " |               .filterDate('2001-01-01', '2002-01-01').aside(logging.info)\n",
      " |               .filterBounds(geom).aside(logging.info)\n",
      " |               .aside(addToMap, {'min': 0, 'max': 142})\n",
      " |               .select('a', 'b'))\n",
      " |      \n",
      " |      Args:\n",
      " |        func: The function to call.\n",
      " |        *var_args: Any extra arguments to pass to the function.\n",
      " |      \n",
      " |      Returns:\n",
      " |        The same object, for chaining.\n",
      " |  \n",
      " |  encode(self, encoder)\n",
      " |      Encodes the object in a format compatible with Serializer.\n",
      " |  \n",
      " |  encode_cloud_value(self, encoder)\n",
      " |      Encodes the object as a ValueNode.\n",
      " |      \n",
      " |      Args:\n",
      " |        encoder: A function that can be called to encode the components of\n",
      " |            an object.\n",
      " |      \n",
      " |      Returns:\n",
      " |        The encoded form of the object.\n",
      " |  \n",
      " |  getInfo(self)\n",
      " |      Fetch and return information about this object.\n",
      " |      \n",
      " |      Returns:\n",
      " |        The object can evaluate to anything.\n",
      " |  \n",
      " |  isVariable(self)\n",
      " |      Returns whether this computed object is a variable reference.\n",
      " |  \n",
      " |  serialize(self, opt_pretty=False, for_cloud_api=True)\n",
      " |      Serialize this object into a JSON string.\n",
      " |      \n",
      " |      Args:\n",
      " |        opt_pretty: A flag indicating whether to pretty-print the JSON.\n",
      " |        for_cloud_api: Whether the encoding should be done for the Cloud API\n",
      " |          or the legacy API.\n",
      " |      \n",
      " |      Returns:\n",
      " |        The serialized representation of this object.\n",
      " |  \n",
      " |  ----------------------------------------------------------------------\n",
      " |  Static methods inherited from ee.computedobject.ComputedObject:\n",
      " |  \n",
      " |  freeze(obj)\n",
      " |      Freeze a list or dict so it can be hashed.\n",
      " |  \n",
      " |  ----------------------------------------------------------------------\n",
      " |  Data descriptors inherited from ee.encodable.Encodable:\n",
      " |  \n",
      " |  __dict__\n",
      " |      dictionary for instance variables (if defined)\n",
      " |  \n",
      " |  __weakref__\n",
      " |      list of weak references to the object (if defined)\n",
      "\n"
     ]
    }
   ],
   "source": [
    "help(ee.Filter)"
   ]
  },
  {
   "cell_type": "code",
   "execution_count": 92,
   "metadata": {},
   "outputs": [
    {
     "data": {
      "application/vnd.jupyter.widget-view+json": {
       "model_id": "4a0d1f0a1f484b7c9d455261cc2b5a01",
       "version_major": 2,
       "version_minor": 0
      },
      "text/plain": [
       "Map(center=[12.942208526432214, 77.5868323785926], controls=(WidgetControl(options=['position', 'transparent_b…"
      ]
     },
     "execution_count": 92,
     "metadata": {},
     "output_type": "execute_result"
    }
   ],
   "source": [
    "# folder = (new Function('return __dirname'))()\n",
    "# filteringModule = require('filters.js')\n",
    "city_name = 'Bangalore Urban'\n",
    "admin2 = ee.FeatureCollection('FAO/GAUL_SIMPLIFIED_500m/2015/level2')\n",
    "selected = admin2.filter(ee.Filter.eq('ADM2_NAME', city_name))\n",
    "geometry = selected.geometry()\n",
    "geom = geometry.bounds()\n",
    "# print('Bangalore Bounds:', geom)\n",
    "\n",
    "year_start = '2020'\n",
    "year_end = '2023'\n",
    "image_before_start = '2015-11-01'\n",
    "image_before_end = '2016-03-01'\n",
    "image_after_start = '2023-01-01'\n",
    "image_after_end = '2023-04-01'\n",
    "DW_bands = ['water', 'trees', 'grass', 'flooded_vegetation', 'crops',\n",
    "    'shrub_and_scrub', 'built', 'bare', 'snow_and_ice']\n",
    "image_col_ = ee.ImageCollection(\"GOOGLE/DYNAMICWORLD/V1\"). \\\n",
    "            filterDate(image_before_start, image_after_end) \\\n",
    "            .filterBounds(geom) \\\n",
    "\n",
    "mossaic = filteringModule.mosaicSamedayImage(image_col_)      \n",
    "filled_col = filteringModule.forward_fill(mossaic)      \n",
    "monthlyMedians = filteringModule.computeMonthlyMedians(filled_col)\n",
    "\n",
    "# print(monthlyMedians)\n",
    "# print(ee.Image(monthlyMedians.toList(monthlyMedians.size()).get(30)).bandNames().size())\n",
    "monthlyMedians = monthlyMedians.map(filteringModule.addBandnumber).filter(ee.Filter.gt('numBands',0))\n",
    "\n",
    "band = 'flooded_vegetation'\n",
    "band_name = 'label'\n",
    "dw =  monthlyMedians.select(band_name)\n",
    "beforeDw = dw.filterDate(image_before_start, image_before_end).mean()\n",
    "afterDw = dw.filterDate(image_after_start, image_after_end).mean()\n",
    "newUrban = beforeDw.lt(0.3).And(afterDw.gt(0.7))\n",
    "lon, lat = geometry.centroid().getInfo()['coordinates']\n",
    "# Map = folium.Map(location= [lat, lon], zoom_start=12)\n",
    "\n",
    "Map = geemap.Map()\n",
    "changeVisParams = {'min': 0, 'max': 1, 'palette': ['white', 'red']}\n",
    "# Map.addLayer(dw.first().mask().clip(geometry), changeVisParams, 'Urban')\n",
    "# Map.addLayer(dw.first().mask().Not(), {}, 'Urban')\n",
    "Map.addLayer(newUrban, changeVisParams, \"New Urban\")\n",
    "# Map.addLayer(monthlyMedians.first().select(['built', 'trees', 'water']).clip(geom), {}, 'Bangalore')\n",
    "Map.centerObject(geometry, 12)\n",
    "Map"
   ]
  },
  {
   "cell_type": "code",
   "execution_count": 93,
   "metadata": {},
   "outputs": [],
   "source": [
    "# # Function to calculate the statistics for an image\n",
    "# def calculateStatistics(image):\n",
    "#     statistics = image.gt(0.7).reduceRegion(\n",
    "#         reducer=ee.Reducer.sum(),  # Use the desired reducer function, such as mean, sum, max, etc.\n",
    "#         geometry=geometry,\n",
    "#         scale=20  # Set the appropriate scale based on the image resolution\n",
    "#     )\n",
    "#     return image.set(statistics)\n",
    "\n",
    "# # Apply the calculateStatistics function over the image collection\n",
    "# image_collection_with_stats = dw.map(calculateStatistics)\n",
    "\n",
    "# # Get the resulting image collection with statistics\n",
    "# image_collection_with_stats"
   ]
  },
  {
   "cell_type": "code",
   "execution_count": 94,
   "metadata": {},
   "outputs": [
    {
     "data": {
      "text/html": [
       "<div><style>:root {\n",
       "  --font-color-primary: var(--jp-content-font-color0, rgba(0, 0, 0, 1));\n",
       "  --font-color-secondary: var(--jp-content-font-color2, rgba(0, 0, 0, 0.6));\n",
       "  --font-color-accent: rgba(123, 31, 162, 1);\n",
       "  --border-color: var(--jp-border-color2, #e0e0e0);\n",
       "  --background-color: var(--jp-layout-color0, white);\n",
       "  --background-color-row-even: var(--jp-layout-color1, white);\n",
       "  --background-color-row-odd: var(--jp-layout-color2, #eeeeee);\n",
       "}\n",
       "\n",
       "html[theme=\"dark\"],\n",
       "body[data-theme=\"dark\"],\n",
       "body.vscode-dark {\n",
       "  --font-color-primary: rgba(255, 255, 255, 1);\n",
       "  --font-color-secondary: rgba(255, 255, 255, 0.6);\n",
       "  --font-color-accent: rgb(173, 132, 190);\n",
       "  --border-color: #2e2e2e;\n",
       "  --background-color: #111111;\n",
       "  --background-color-row-even: #111111;\n",
       "  --background-color-row-odd: #313131;\n",
       "}\n",
       "\n",
       ".ee {\n",
       "  padding: 1em;\n",
       "  line-height: 1.5em;\n",
       "  min-width: 300px;\n",
       "  max-width: 1200px;\n",
       "  overflow-y: scroll;\n",
       "  max-height: 600px;\n",
       "  border: 1px solid var(--border-color);\n",
       "  font-family: monospace;\n",
       "}\n",
       "\n",
       ".ee li {\n",
       "  list-style-type: none;\n",
       "}\n",
       "\n",
       ".ee ul {\n",
       "  padding-left: 1.5em !important;\n",
       "  margin: 0;\n",
       "}\n",
       "\n",
       ".ee > ul {\n",
       "  padding-left: 0 !important;\n",
       "}\n",
       "\n",
       ".ee-open,\n",
       ".ee-shut {\n",
       "  color: var(--font-color-secondary);\n",
       "  cursor: pointer;\n",
       "  margin: 0;\n",
       "}\n",
       "\n",
       ".ee-open:hover,\n",
       ".ee-shut:hover {\n",
       "  color: var(--font-color-primary);\n",
       "}\n",
       "\n",
       ".ee-k {\n",
       "  color: var(--font-color-accent);\n",
       "  margin-right: 6px;\n",
       "}\n",
       "\n",
       ".ee-v {\n",
       "  color: var(--font-color-primary);\n",
       "}\n",
       "\n",
       ".ee-toggle {\n",
       "  display: none;\n",
       "}\n",
       "\n",
       ".ee-shut + ul {\n",
       "  display: none;\n",
       "}\n",
       "\n",
       ".ee-open + ul {\n",
       "  display: block;\n",
       "}\n",
       "\n",
       ".ee-shut::before {\n",
       "  display: inline-block;\n",
       "  content: \"▼\";\n",
       "  margin-right: 6px;\n",
       "  transform: rotate(-90deg);\n",
       "  transition: transform 0.2s;\n",
       "}\n",
       "\n",
       ".ee-open::before {\n",
       "  transform: rotate(0deg);\n",
       "  display: inline-block;\n",
       "  content: \"▼\";\n",
       "  margin-right: 6px;\n",
       "  transition: transform 0.2s;\n",
       "}\n",
       "</style><div class='ee'><ul><li><label class='ee-shut'>Image (10 bands)<input type='checkbox' class='ee-toggle'></label><ul><li><span class='ee-k'>type:</span><span class='ee-v'>Image</span></li><li><label class='ee-shut'>bands: List (10 elements)<input type='checkbox' class='ee-toggle'></label><ul><li><label class='ee-shut'>0: \"water\", double, EPSG:4326<input type='checkbox' class='ee-toggle'></label><ul><li><span class='ee-k'>id:</span><span class='ee-v'>water</span></li><li><span class='ee-k'>crs:</span><span class='ee-v'>EPSG:4326</span></li><li><label class='ee-shut'>crs_transform: [1, 0, 0, 0, 1, 0]<input type='checkbox' class='ee-toggle'></label><ul><li><span class='ee-k'>0:</span><span class='ee-v'>1</span></li><li><span class='ee-k'>1:</span><span class='ee-v'>0</span></li><li><span class='ee-k'>2:</span><span class='ee-v'>0</span></li><li><span class='ee-k'>3:</span><span class='ee-v'>0</span></li><li><span class='ee-k'>4:</span><span class='ee-v'>1</span></li><li><span class='ee-k'>5:</span><span class='ee-v'>0</span></li></ul></li><li><label class='ee-shut'>data_type: double<input type='checkbox' class='ee-toggle'></label><ul><li><span class='ee-k'>type:</span><span class='ee-v'>PixelType</span></li><li><span class='ee-k'>precision:</span><span class='ee-v'>double</span></li></ul></li></ul></li><li><label class='ee-shut'>1: \"trees\", double, EPSG:4326<input type='checkbox' class='ee-toggle'></label><ul><li><span class='ee-k'>id:</span><span class='ee-v'>trees</span></li><li><span class='ee-k'>crs:</span><span class='ee-v'>EPSG:4326</span></li><li><label class='ee-shut'>crs_transform: [1, 0, 0, 0, 1, 0]<input type='checkbox' class='ee-toggle'></label><ul><li><span class='ee-k'>0:</span><span class='ee-v'>1</span></li><li><span class='ee-k'>1:</span><span class='ee-v'>0</span></li><li><span class='ee-k'>2:</span><span class='ee-v'>0</span></li><li><span class='ee-k'>3:</span><span class='ee-v'>0</span></li><li><span class='ee-k'>4:</span><span class='ee-v'>1</span></li><li><span class='ee-k'>5:</span><span class='ee-v'>0</span></li></ul></li><li><label class='ee-shut'>data_type: double<input type='checkbox' class='ee-toggle'></label><ul><li><span class='ee-k'>type:</span><span class='ee-v'>PixelType</span></li><li><span class='ee-k'>precision:</span><span class='ee-v'>double</span></li></ul></li></ul></li><li><label class='ee-shut'>2: \"grass\", double, EPSG:4326<input type='checkbox' class='ee-toggle'></label><ul><li><span class='ee-k'>id:</span><span class='ee-v'>grass</span></li><li><span class='ee-k'>crs:</span><span class='ee-v'>EPSG:4326</span></li><li><label class='ee-shut'>crs_transform: [1, 0, 0, 0, 1, 0]<input type='checkbox' class='ee-toggle'></label><ul><li><span class='ee-k'>0:</span><span class='ee-v'>1</span></li><li><span class='ee-k'>1:</span><span class='ee-v'>0</span></li><li><span class='ee-k'>2:</span><span class='ee-v'>0</span></li><li><span class='ee-k'>3:</span><span class='ee-v'>0</span></li><li><span class='ee-k'>4:</span><span class='ee-v'>1</span></li><li><span class='ee-k'>5:</span><span class='ee-v'>0</span></li></ul></li><li><label class='ee-shut'>data_type: double<input type='checkbox' class='ee-toggle'></label><ul><li><span class='ee-k'>type:</span><span class='ee-v'>PixelType</span></li><li><span class='ee-k'>precision:</span><span class='ee-v'>double</span></li></ul></li></ul></li><li><label class='ee-shut'>3: \"flooded_vegetation\", double, EPSG:4326<input type='checkbox' class='ee-toggle'></label><ul><li><span class='ee-k'>id:</span><span class='ee-v'>flooded_vegetation</span></li><li><span class='ee-k'>crs:</span><span class='ee-v'>EPSG:4326</span></li><li><label class='ee-shut'>crs_transform: [1, 0, 0, 0, 1, 0]<input type='checkbox' class='ee-toggle'></label><ul><li><span class='ee-k'>0:</span><span class='ee-v'>1</span></li><li><span class='ee-k'>1:</span><span class='ee-v'>0</span></li><li><span class='ee-k'>2:</span><span class='ee-v'>0</span></li><li><span class='ee-k'>3:</span><span class='ee-v'>0</span></li><li><span class='ee-k'>4:</span><span class='ee-v'>1</span></li><li><span class='ee-k'>5:</span><span class='ee-v'>0</span></li></ul></li><li><label class='ee-shut'>data_type: double<input type='checkbox' class='ee-toggle'></label><ul><li><span class='ee-k'>type:</span><span class='ee-v'>PixelType</span></li><li><span class='ee-k'>precision:</span><span class='ee-v'>double</span></li></ul></li></ul></li><li><label class='ee-shut'>4: \"crops\", double, EPSG:4326<input type='checkbox' class='ee-toggle'></label><ul><li><span class='ee-k'>id:</span><span class='ee-v'>crops</span></li><li><span class='ee-k'>crs:</span><span class='ee-v'>EPSG:4326</span></li><li><label class='ee-shut'>crs_transform: [1, 0, 0, 0, 1, 0]<input type='checkbox' class='ee-toggle'></label><ul><li><span class='ee-k'>0:</span><span class='ee-v'>1</span></li><li><span class='ee-k'>1:</span><span class='ee-v'>0</span></li><li><span class='ee-k'>2:</span><span class='ee-v'>0</span></li><li><span class='ee-k'>3:</span><span class='ee-v'>0</span></li><li><span class='ee-k'>4:</span><span class='ee-v'>1</span></li><li><span class='ee-k'>5:</span><span class='ee-v'>0</span></li></ul></li><li><label class='ee-shut'>data_type: double<input type='checkbox' class='ee-toggle'></label><ul><li><span class='ee-k'>type:</span><span class='ee-v'>PixelType</span></li><li><span class='ee-k'>precision:</span><span class='ee-v'>double</span></li></ul></li></ul></li><li><label class='ee-shut'>5: \"shrub_and_scrub\", double, EPSG:4326<input type='checkbox' class='ee-toggle'></label><ul><li><span class='ee-k'>id:</span><span class='ee-v'>shrub_and_scrub</span></li><li><span class='ee-k'>crs:</span><span class='ee-v'>EPSG:4326</span></li><li><label class='ee-shut'>crs_transform: [1, 0, 0, 0, 1, 0]<input type='checkbox' class='ee-toggle'></label><ul><li><span class='ee-k'>0:</span><span class='ee-v'>1</span></li><li><span class='ee-k'>1:</span><span class='ee-v'>0</span></li><li><span class='ee-k'>2:</span><span class='ee-v'>0</span></li><li><span class='ee-k'>3:</span><span class='ee-v'>0</span></li><li><span class='ee-k'>4:</span><span class='ee-v'>1</span></li><li><span class='ee-k'>5:</span><span class='ee-v'>0</span></li></ul></li><li><label class='ee-shut'>data_type: double<input type='checkbox' class='ee-toggle'></label><ul><li><span class='ee-k'>type:</span><span class='ee-v'>PixelType</span></li><li><span class='ee-k'>precision:</span><span class='ee-v'>double</span></li></ul></li></ul></li><li><label class='ee-shut'>6: \"built\", double, EPSG:4326<input type='checkbox' class='ee-toggle'></label><ul><li><span class='ee-k'>id:</span><span class='ee-v'>built</span></li><li><span class='ee-k'>crs:</span><span class='ee-v'>EPSG:4326</span></li><li><label class='ee-shut'>crs_transform: [1, 0, 0, 0, 1, 0]<input type='checkbox' class='ee-toggle'></label><ul><li><span class='ee-k'>0:</span><span class='ee-v'>1</span></li><li><span class='ee-k'>1:</span><span class='ee-v'>0</span></li><li><span class='ee-k'>2:</span><span class='ee-v'>0</span></li><li><span class='ee-k'>3:</span><span class='ee-v'>0</span></li><li><span class='ee-k'>4:</span><span class='ee-v'>1</span></li><li><span class='ee-k'>5:</span><span class='ee-v'>0</span></li></ul></li><li><label class='ee-shut'>data_type: double<input type='checkbox' class='ee-toggle'></label><ul><li><span class='ee-k'>type:</span><span class='ee-v'>PixelType</span></li><li><span class='ee-k'>precision:</span><span class='ee-v'>double</span></li></ul></li></ul></li><li><label class='ee-shut'>7: \"bare\", double, EPSG:4326<input type='checkbox' class='ee-toggle'></label><ul><li><span class='ee-k'>id:</span><span class='ee-v'>bare</span></li><li><span class='ee-k'>crs:</span><span class='ee-v'>EPSG:4326</span></li><li><label class='ee-shut'>crs_transform: [1, 0, 0, 0, 1, 0]<input type='checkbox' class='ee-toggle'></label><ul><li><span class='ee-k'>0:</span><span class='ee-v'>1</span></li><li><span class='ee-k'>1:</span><span class='ee-v'>0</span></li><li><span class='ee-k'>2:</span><span class='ee-v'>0</span></li><li><span class='ee-k'>3:</span><span class='ee-v'>0</span></li><li><span class='ee-k'>4:</span><span class='ee-v'>1</span></li><li><span class='ee-k'>5:</span><span class='ee-v'>0</span></li></ul></li><li><label class='ee-shut'>data_type: double<input type='checkbox' class='ee-toggle'></label><ul><li><span class='ee-k'>type:</span><span class='ee-v'>PixelType</span></li><li><span class='ee-k'>precision:</span><span class='ee-v'>double</span></li></ul></li></ul></li><li><label class='ee-shut'>8: \"snow_and_ice\", double, EPSG:4326<input type='checkbox' class='ee-toggle'></label><ul><li><span class='ee-k'>id:</span><span class='ee-v'>snow_and_ice</span></li><li><span class='ee-k'>crs:</span><span class='ee-v'>EPSG:4326</span></li><li><label class='ee-shut'>crs_transform: [1, 0, 0, 0, 1, 0]<input type='checkbox' class='ee-toggle'></label><ul><li><span class='ee-k'>0:</span><span class='ee-v'>1</span></li><li><span class='ee-k'>1:</span><span class='ee-v'>0</span></li><li><span class='ee-k'>2:</span><span class='ee-v'>0</span></li><li><span class='ee-k'>3:</span><span class='ee-v'>0</span></li><li><span class='ee-k'>4:</span><span class='ee-v'>1</span></li><li><span class='ee-k'>5:</span><span class='ee-v'>0</span></li></ul></li><li><label class='ee-shut'>data_type: double<input type='checkbox' class='ee-toggle'></label><ul><li><span class='ee-k'>type:</span><span class='ee-v'>PixelType</span></li><li><span class='ee-k'>precision:</span><span class='ee-v'>double</span></li></ul></li></ul></li><li><label class='ee-shut'>9: \"label\", unsigned int8, EPSG:4326<input type='checkbox' class='ee-toggle'></label><ul><li><span class='ee-k'>id:</span><span class='ee-v'>label</span></li><li><span class='ee-k'>crs:</span><span class='ee-v'>EPSG:4326</span></li><li><label class='ee-shut'>crs_transform: [1, 0, 0, 0, 1, 0]<input type='checkbox' class='ee-toggle'></label><ul><li><span class='ee-k'>0:</span><span class='ee-v'>1</span></li><li><span class='ee-k'>1:</span><span class='ee-v'>0</span></li><li><span class='ee-k'>2:</span><span class='ee-v'>0</span></li><li><span class='ee-k'>3:</span><span class='ee-v'>0</span></li><li><span class='ee-k'>4:</span><span class='ee-v'>1</span></li><li><span class='ee-k'>5:</span><span class='ee-v'>0</span></li></ul></li><li><label class='ee-shut'>data_type: unsigned int8<input type='checkbox' class='ee-toggle'></label><ul><li><span class='ee-k'>type:</span><span class='ee-v'>PixelType</span></li><li><span class='ee-k'>max:</span><span class='ee-v'>255</span></li><li><span class='ee-k'>min:</span><span class='ee-v'>0</span></li><li><span class='ee-k'>precision:</span><span class='ee-v'>int</span></li></ul></li></ul></li></ul></li><li><label class='ee-shut'>properties: Object (5 properties)<input type='checkbox' class='ee-toggle'></label><ul><li><span class='ee-k'>day:</span><span class='ee-v'>14</span></li><li><span class='ee-k'>month:</span><span class='ee-v'>05</span></li><li><span class='ee-k'>system:index:</span><span class='ee-v'>28</span></li><li><span class='ee-k'>system:time_start:</span><span class='ee-v'>1494720000000</span></li><li><span class='ee-k'>year:</span><span class='ee-v'>2017</span></li></ul></li></ul></li></ul></div><script>function toggleHeader() {\n",
       "    const parent = this.parentElement;\n",
       "    parent.className = parent.className === \"ee-open\" ? \"ee-shut\" : \"ee-open\";\n",
       "}\n",
       "\n",
       "for (let c of document.getElementsByClassName(\"ee-toggle\")) {\n",
       "    c.onclick = toggleHeader;\n",
       "}</script></div>"
      ],
      "text/plain": [
       "<ee.image.Image at 0x7f072ee7faf0>"
      ]
     },
     "execution_count": 94,
     "metadata": {},
     "output_type": "execute_result"
    }
   ],
   "source": [
    "img1 = ee.Image(mossaic.toList(mossaic.size()).get(28))\n",
    "img2 = ee.Image(filled_col.toList(filled_col.size()).get(28))\n",
    "img1"
   ]
  },
  {
   "cell_type": "code",
   "execution_count": 95,
   "metadata": {},
   "outputs": [],
   "source": [
    "reduced = dw.map(lambda image: ee.Feature(None, image.eq(DW_bands.index(band)).reduceRegion(reducer = ee.Reducer.sum(), geometry= geom, scale = 20)\\\n",
    "                                          .set('month', image.get('month'))\\\n",
    "                                           .set('year', image.get('year')) ))\n",
    "area_collection_dict = reduced.getInfo()"
   ]
  },
  {
   "cell_type": "code",
   "execution_count": 96,
   "metadata": {},
   "outputs": [
    {
     "data": {
      "text/plain": [
       "array([1.50543635e+11, 1.57672526e+11, 2.70962055e+11, 1.65924406e+11,\n",
       "       1.54198014e+11, 1.54198014e+11, 1.54198014e+11, 2.34365644e+11,\n",
       "       9.14002278e+10, 9.34431394e+10, 5.16471076e+10, 9.21972496e+10,\n",
       "       1.27460536e+11, 1.58078850e+10, 1.07133703e+10, 1.56934473e+10,\n",
       "       1.56934473e+10, 1.57385782e+10, 8.05308601e+11, 1.08293161e+12,\n",
       "       1.13685486e+12, 7.94570050e+11, 5.19704613e+11, 3.50289625e+11,\n",
       "       1.99582444e+11, 2.73419243e+11, 2.79340354e+11, 2.89058541e+11,\n",
       "       3.14548280e+11, 1.99492054e+11, 1.34122546e+11, 8.67644847e+10,\n",
       "       5.48436887e+10, 3.87417247e+10, 2.40560100e+10, 2.43547236e+10,\n",
       "       2.44798789e+10, 2.44204722e+10, 2.44204722e+10, 2.43177239e+10,\n",
       "       2.45835591e+10, 1.81496181e+11, 1.85825842e+11, 2.20806010e+11,\n",
       "       2.58322806e+11, 1.39508929e+11, 1.57136504e+11, 1.72246939e+11,\n",
       "       1.39882160e+11, 1.61137513e+11, 4.38481210e+11, 2.40970490e+11,\n",
       "       2.03955311e+11, 3.05212052e+11, 2.75004738e+11, 1.96446819e+11,\n",
       "       8.19913592e+10, 7.02028872e+10, 6.99813701e+10, 6.99813701e+10,\n",
       "       1.00977719e+12, 1.64310675e+12, 1.53907182e+12, 1.17775539e+12,\n",
       "       1.00161932e+12, 9.15511266e+11, 1.26061027e+12, 1.38656517e+12,\n",
       "       1.45288687e+12, 4.00550275e+12, 5.32073897e+12, 1.98591958e+12,\n",
       "       1.36010641e+12, 1.50810671e+12, 1.96864999e+12, 2.31421337e+12])"
      ]
     },
     "execution_count": 96,
     "metadata": {},
     "output_type": "execute_result"
    }
   ],
   "source": [
    "feature_list = area_collection_dict.get('features')\n",
    "feature_count = len(feature_list)\n",
    "areas = (np.array([i.get('properties').get(band_name) for i in feature_list])*20)**2\n",
    "month_data = np.array([i.get('properties').get('month') for i in feature_list])\n",
    "year_data = np.array([i.get('properties').get('year') for i in feature_list])\n",
    "areas"
   ]
  },
  {
   "cell_type": "code",
   "execution_count": 97,
   "metadata": {},
   "outputs": [],
   "source": [
    "dir_path = f\"app/data/{city_name}/{band}\"\n",
    "os.makedirs(dir_path, exist_ok=True)\n",
    "with open(f\"{dir_path}/areas.json\", 'w') as dest:\n",
    "    json.dump(feature_list, dest, indent = 6)"
   ]
  },
  {
   "cell_type": "code",
   "execution_count": 98,
   "metadata": {},
   "outputs": [
    {
     "data": {
      "text/plain": [
       "[176192171337.69058,\n",
       " 52253266009.03858,\n",
       " 545736805591.9191,\n",
       " 42206751760.78431,\n",
       " 181317224739.2008,\n",
       " 188802194295.594,\n",
       " 1256279136164.6462,\n",
       " 1930323358004.7942]"
      ]
     },
     "execution_count": 98,
     "metadata": {},
     "output_type": "execute_result"
    }
   ],
   "source": [
    "unique_year = np.sort(np.unique(year_data))[1:]\n",
    "months_box = [True, True, True, True, True, True, True, False, False, False, False, False]\n",
    "yearly_data = [np.mean(areas[year_data == i][0:6]) for i in unique_year]\n",
    "yearly_data"
   ]
  },
  {
   "cell_type": "code",
   "execution_count": 99,
   "metadata": {},
   "outputs": [],
   "source": [
    "import pandas as pd\n",
    "import seaborn as sns"
   ]
  },
  {
   "cell_type": "code",
   "execution_count": 100,
   "metadata": {},
   "outputs": [
    {
     "data": {
      "text/html": [
       "<div>\n",
       "<style scoped>\n",
       "    .dataframe tbody tr th:only-of-type {\n",
       "        vertical-align: middle;\n",
       "    }\n",
       "\n",
       "    .dataframe tbody tr th {\n",
       "        vertical-align: top;\n",
       "    }\n",
       "\n",
       "    .dataframe thead th {\n",
       "        text-align: right;\n",
       "    }\n",
       "</style>\n",
       "<table border=\"1\" class=\"dataframe\">\n",
       "  <thead>\n",
       "    <tr style=\"text-align: right;\">\n",
       "      <th></th>\n",
       "      <th>year</th>\n",
       "      <th>month</th>\n",
       "      <th>areas</th>\n",
       "    </tr>\n",
       "    <tr>\n",
       "      <th>date</th>\n",
       "      <th></th>\n",
       "      <th></th>\n",
       "      <th></th>\n",
       "    </tr>\n",
       "  </thead>\n",
       "  <tbody>\n",
       "    <tr>\n",
       "      <th>2015-12-01</th>\n",
       "      <td>2015</td>\n",
       "      <td>12</td>\n",
       "      <td>1.505436e+11</td>\n",
       "    </tr>\n",
       "    <tr>\n",
       "      <th>2016-01-01</th>\n",
       "      <td>2016</td>\n",
       "      <td>1</td>\n",
       "      <td>1.576725e+11</td>\n",
       "    </tr>\n",
       "    <tr>\n",
       "      <th>2016-02-01</th>\n",
       "      <td>2016</td>\n",
       "      <td>2</td>\n",
       "      <td>2.709621e+11</td>\n",
       "    </tr>\n",
       "    <tr>\n",
       "      <th>2016-03-01</th>\n",
       "      <td>2016</td>\n",
       "      <td>3</td>\n",
       "      <td>2.709621e+11</td>\n",
       "    </tr>\n",
       "    <tr>\n",
       "      <th>2016-04-01</th>\n",
       "      <td>2016</td>\n",
       "      <td>4</td>\n",
       "      <td>1.659244e+11</td>\n",
       "    </tr>\n",
       "    <tr>\n",
       "      <th>...</th>\n",
       "      <td>...</td>\n",
       "      <td>...</td>\n",
       "      <td>...</td>\n",
       "    </tr>\n",
       "    <tr>\n",
       "      <th>2022-11-01</th>\n",
       "      <td>2022</td>\n",
       "      <td>11</td>\n",
       "      <td>1.985920e+12</td>\n",
       "    </tr>\n",
       "    <tr>\n",
       "      <th>2022-12-01</th>\n",
       "      <td>2022</td>\n",
       "      <td>12</td>\n",
       "      <td>1.360106e+12</td>\n",
       "    </tr>\n",
       "    <tr>\n",
       "      <th>2023-01-01</th>\n",
       "      <td>2023</td>\n",
       "      <td>1</td>\n",
       "      <td>1.508107e+12</td>\n",
       "    </tr>\n",
       "    <tr>\n",
       "      <th>2023-02-01</th>\n",
       "      <td>2023</td>\n",
       "      <td>2</td>\n",
       "      <td>1.968650e+12</td>\n",
       "    </tr>\n",
       "    <tr>\n",
       "      <th>2023-03-01</th>\n",
       "      <td>2023</td>\n",
       "      <td>3</td>\n",
       "      <td>2.314213e+12</td>\n",
       "    </tr>\n",
       "  </tbody>\n",
       "</table>\n",
       "<p>88 rows × 3 columns</p>\n",
       "</div>"
      ],
      "text/plain": [
       "            year  month         areas\n",
       "date                                 \n",
       "2015-12-01  2015     12  1.505436e+11\n",
       "2016-01-01  2016      1  1.576725e+11\n",
       "2016-02-01  2016      2  2.709621e+11\n",
       "2016-03-01  2016      3  2.709621e+11\n",
       "2016-04-01  2016      4  1.659244e+11\n",
       "...          ...    ...           ...\n",
       "2022-11-01  2022     11  1.985920e+12\n",
       "2022-12-01  2022     12  1.360106e+12\n",
       "2023-01-01  2023      1  1.508107e+12\n",
       "2023-02-01  2023      2  1.968650e+12\n",
       "2023-03-01  2023      3  2.314213e+12\n",
       "\n",
       "[88 rows x 3 columns]"
      ]
     },
     "execution_count": 100,
     "metadata": {},
     "output_type": "execute_result"
    }
   ],
   "source": [
    "df = pd.DataFrame({\"year\": year_data, \"month\": month_data, \"areas\": areas})\n",
    "df['date'] = pd.to_datetime(dict(year=df.year, month=df.month, day = 1))\n",
    "df.set_index('date', inplace=True)\n",
    "df = df.resample('MS').asfreq()\n",
    "df.fillna(method='ffill', inplace=True)\n",
    "df.month = df.index.month\n",
    "df.year = df.index.year\n",
    "df"
   ]
  },
  {
   "cell_type": "code",
   "execution_count": 101,
   "metadata": {},
   "outputs": [],
   "source": [
    "import plotly.express as px"
   ]
  },
  {
   "cell_type": "code",
   "execution_count": 102,
   "metadata": {},
   "outputs": [
    {
     "data": {
      "application/vnd.plotly.v1+json": {
       "config": {
        "plotlyServerURL": "https://plot.ly"
       },
       "data": [
        {
         "hovertemplate": "x=%{x}<br>y=%{y}<extra></extra>",
         "legendgroup": "",
         "line": {
          "color": "#636efa",
          "dash": "solid"
         },
         "marker": {
          "symbol": "circle"
         },
         "mode": "lines",
         "name": "",
         "orientation": "v",
         "showlegend": false,
         "type": "scatter",
         "x": [
          2016,
          2017,
          2018,
          2019,
          2020,
          2021,
          2022,
          2023
         ],
         "xaxis": "x",
         "y": [
          176192171337.69058,
          52253266009.03858,
          545736805591.9191,
          42206751760.78431,
          181317224739.2008,
          188802194295.594,
          1256279136164.6462,
          1930323358004.7942
         ],
         "yaxis": "y"
        }
       ],
       "layout": {
        "legend": {
         "tracegroupgap": 0
        },
        "margin": {
         "t": 60
        },
        "template": {
         "data": {
          "bar": [
           {
            "error_x": {
             "color": "#2a3f5f"
            },
            "error_y": {
             "color": "#2a3f5f"
            },
            "marker": {
             "line": {
              "color": "#E5ECF6",
              "width": 0.5
             },
             "pattern": {
              "fillmode": "overlay",
              "size": 10,
              "solidity": 0.2
             }
            },
            "type": "bar"
           }
          ],
          "barpolar": [
           {
            "marker": {
             "line": {
              "color": "#E5ECF6",
              "width": 0.5
             },
             "pattern": {
              "fillmode": "overlay",
              "size": 10,
              "solidity": 0.2
             }
            },
            "type": "barpolar"
           }
          ],
          "carpet": [
           {
            "aaxis": {
             "endlinecolor": "#2a3f5f",
             "gridcolor": "white",
             "linecolor": "white",
             "minorgridcolor": "white",
             "startlinecolor": "#2a3f5f"
            },
            "baxis": {
             "endlinecolor": "#2a3f5f",
             "gridcolor": "white",
             "linecolor": "white",
             "minorgridcolor": "white",
             "startlinecolor": "#2a3f5f"
            },
            "type": "carpet"
           }
          ],
          "choropleth": [
           {
            "colorbar": {
             "outlinewidth": 0,
             "ticks": ""
            },
            "type": "choropleth"
           }
          ],
          "contour": [
           {
            "colorbar": {
             "outlinewidth": 0,
             "ticks": ""
            },
            "colorscale": [
             [
              0,
              "#0d0887"
             ],
             [
              0.1111111111111111,
              "#46039f"
             ],
             [
              0.2222222222222222,
              "#7201a8"
             ],
             [
              0.3333333333333333,
              "#9c179e"
             ],
             [
              0.4444444444444444,
              "#bd3786"
             ],
             [
              0.5555555555555556,
              "#d8576b"
             ],
             [
              0.6666666666666666,
              "#ed7953"
             ],
             [
              0.7777777777777778,
              "#fb9f3a"
             ],
             [
              0.8888888888888888,
              "#fdca26"
             ],
             [
              1,
              "#f0f921"
             ]
            ],
            "type": "contour"
           }
          ],
          "contourcarpet": [
           {
            "colorbar": {
             "outlinewidth": 0,
             "ticks": ""
            },
            "type": "contourcarpet"
           }
          ],
          "heatmap": [
           {
            "colorbar": {
             "outlinewidth": 0,
             "ticks": ""
            },
            "colorscale": [
             [
              0,
              "#0d0887"
             ],
             [
              0.1111111111111111,
              "#46039f"
             ],
             [
              0.2222222222222222,
              "#7201a8"
             ],
             [
              0.3333333333333333,
              "#9c179e"
             ],
             [
              0.4444444444444444,
              "#bd3786"
             ],
             [
              0.5555555555555556,
              "#d8576b"
             ],
             [
              0.6666666666666666,
              "#ed7953"
             ],
             [
              0.7777777777777778,
              "#fb9f3a"
             ],
             [
              0.8888888888888888,
              "#fdca26"
             ],
             [
              1,
              "#f0f921"
             ]
            ],
            "type": "heatmap"
           }
          ],
          "heatmapgl": [
           {
            "colorbar": {
             "outlinewidth": 0,
             "ticks": ""
            },
            "colorscale": [
             [
              0,
              "#0d0887"
             ],
             [
              0.1111111111111111,
              "#46039f"
             ],
             [
              0.2222222222222222,
              "#7201a8"
             ],
             [
              0.3333333333333333,
              "#9c179e"
             ],
             [
              0.4444444444444444,
              "#bd3786"
             ],
             [
              0.5555555555555556,
              "#d8576b"
             ],
             [
              0.6666666666666666,
              "#ed7953"
             ],
             [
              0.7777777777777778,
              "#fb9f3a"
             ],
             [
              0.8888888888888888,
              "#fdca26"
             ],
             [
              1,
              "#f0f921"
             ]
            ],
            "type": "heatmapgl"
           }
          ],
          "histogram": [
           {
            "marker": {
             "pattern": {
              "fillmode": "overlay",
              "size": 10,
              "solidity": 0.2
             }
            },
            "type": "histogram"
           }
          ],
          "histogram2d": [
           {
            "colorbar": {
             "outlinewidth": 0,
             "ticks": ""
            },
            "colorscale": [
             [
              0,
              "#0d0887"
             ],
             [
              0.1111111111111111,
              "#46039f"
             ],
             [
              0.2222222222222222,
              "#7201a8"
             ],
             [
              0.3333333333333333,
              "#9c179e"
             ],
             [
              0.4444444444444444,
              "#bd3786"
             ],
             [
              0.5555555555555556,
              "#d8576b"
             ],
             [
              0.6666666666666666,
              "#ed7953"
             ],
             [
              0.7777777777777778,
              "#fb9f3a"
             ],
             [
              0.8888888888888888,
              "#fdca26"
             ],
             [
              1,
              "#f0f921"
             ]
            ],
            "type": "histogram2d"
           }
          ],
          "histogram2dcontour": [
           {
            "colorbar": {
             "outlinewidth": 0,
             "ticks": ""
            },
            "colorscale": [
             [
              0,
              "#0d0887"
             ],
             [
              0.1111111111111111,
              "#46039f"
             ],
             [
              0.2222222222222222,
              "#7201a8"
             ],
             [
              0.3333333333333333,
              "#9c179e"
             ],
             [
              0.4444444444444444,
              "#bd3786"
             ],
             [
              0.5555555555555556,
              "#d8576b"
             ],
             [
              0.6666666666666666,
              "#ed7953"
             ],
             [
              0.7777777777777778,
              "#fb9f3a"
             ],
             [
              0.8888888888888888,
              "#fdca26"
             ],
             [
              1,
              "#f0f921"
             ]
            ],
            "type": "histogram2dcontour"
           }
          ],
          "mesh3d": [
           {
            "colorbar": {
             "outlinewidth": 0,
             "ticks": ""
            },
            "type": "mesh3d"
           }
          ],
          "parcoords": [
           {
            "line": {
             "colorbar": {
              "outlinewidth": 0,
              "ticks": ""
             }
            },
            "type": "parcoords"
           }
          ],
          "pie": [
           {
            "automargin": true,
            "type": "pie"
           }
          ],
          "scatter": [
           {
            "fillpattern": {
             "fillmode": "overlay",
             "size": 10,
             "solidity": 0.2
            },
            "type": "scatter"
           }
          ],
          "scatter3d": [
           {
            "line": {
             "colorbar": {
              "outlinewidth": 0,
              "ticks": ""
             }
            },
            "marker": {
             "colorbar": {
              "outlinewidth": 0,
              "ticks": ""
             }
            },
            "type": "scatter3d"
           }
          ],
          "scattercarpet": [
           {
            "marker": {
             "colorbar": {
              "outlinewidth": 0,
              "ticks": ""
             }
            },
            "type": "scattercarpet"
           }
          ],
          "scattergeo": [
           {
            "marker": {
             "colorbar": {
              "outlinewidth": 0,
              "ticks": ""
             }
            },
            "type": "scattergeo"
           }
          ],
          "scattergl": [
           {
            "marker": {
             "colorbar": {
              "outlinewidth": 0,
              "ticks": ""
             }
            },
            "type": "scattergl"
           }
          ],
          "scattermapbox": [
           {
            "marker": {
             "colorbar": {
              "outlinewidth": 0,
              "ticks": ""
             }
            },
            "type": "scattermapbox"
           }
          ],
          "scatterpolar": [
           {
            "marker": {
             "colorbar": {
              "outlinewidth": 0,
              "ticks": ""
             }
            },
            "type": "scatterpolar"
           }
          ],
          "scatterpolargl": [
           {
            "marker": {
             "colorbar": {
              "outlinewidth": 0,
              "ticks": ""
             }
            },
            "type": "scatterpolargl"
           }
          ],
          "scatterternary": [
           {
            "marker": {
             "colorbar": {
              "outlinewidth": 0,
              "ticks": ""
             }
            },
            "type": "scatterternary"
           }
          ],
          "surface": [
           {
            "colorbar": {
             "outlinewidth": 0,
             "ticks": ""
            },
            "colorscale": [
             [
              0,
              "#0d0887"
             ],
             [
              0.1111111111111111,
              "#46039f"
             ],
             [
              0.2222222222222222,
              "#7201a8"
             ],
             [
              0.3333333333333333,
              "#9c179e"
             ],
             [
              0.4444444444444444,
              "#bd3786"
             ],
             [
              0.5555555555555556,
              "#d8576b"
             ],
             [
              0.6666666666666666,
              "#ed7953"
             ],
             [
              0.7777777777777778,
              "#fb9f3a"
             ],
             [
              0.8888888888888888,
              "#fdca26"
             ],
             [
              1,
              "#f0f921"
             ]
            ],
            "type": "surface"
           }
          ],
          "table": [
           {
            "cells": {
             "fill": {
              "color": "#EBF0F8"
             },
             "line": {
              "color": "white"
             }
            },
            "header": {
             "fill": {
              "color": "#C8D4E3"
             },
             "line": {
              "color": "white"
             }
            },
            "type": "table"
           }
          ]
         },
         "layout": {
          "annotationdefaults": {
           "arrowcolor": "#2a3f5f",
           "arrowhead": 0,
           "arrowwidth": 1
          },
          "autotypenumbers": "strict",
          "coloraxis": {
           "colorbar": {
            "outlinewidth": 0,
            "ticks": ""
           }
          },
          "colorscale": {
           "diverging": [
            [
             0,
             "#8e0152"
            ],
            [
             0.1,
             "#c51b7d"
            ],
            [
             0.2,
             "#de77ae"
            ],
            [
             0.3,
             "#f1b6da"
            ],
            [
             0.4,
             "#fde0ef"
            ],
            [
             0.5,
             "#f7f7f7"
            ],
            [
             0.6,
             "#e6f5d0"
            ],
            [
             0.7,
             "#b8e186"
            ],
            [
             0.8,
             "#7fbc41"
            ],
            [
             0.9,
             "#4d9221"
            ],
            [
             1,
             "#276419"
            ]
           ],
           "sequential": [
            [
             0,
             "#0d0887"
            ],
            [
             0.1111111111111111,
             "#46039f"
            ],
            [
             0.2222222222222222,
             "#7201a8"
            ],
            [
             0.3333333333333333,
             "#9c179e"
            ],
            [
             0.4444444444444444,
             "#bd3786"
            ],
            [
             0.5555555555555556,
             "#d8576b"
            ],
            [
             0.6666666666666666,
             "#ed7953"
            ],
            [
             0.7777777777777778,
             "#fb9f3a"
            ],
            [
             0.8888888888888888,
             "#fdca26"
            ],
            [
             1,
             "#f0f921"
            ]
           ],
           "sequentialminus": [
            [
             0,
             "#0d0887"
            ],
            [
             0.1111111111111111,
             "#46039f"
            ],
            [
             0.2222222222222222,
             "#7201a8"
            ],
            [
             0.3333333333333333,
             "#9c179e"
            ],
            [
             0.4444444444444444,
             "#bd3786"
            ],
            [
             0.5555555555555556,
             "#d8576b"
            ],
            [
             0.6666666666666666,
             "#ed7953"
            ],
            [
             0.7777777777777778,
             "#fb9f3a"
            ],
            [
             0.8888888888888888,
             "#fdca26"
            ],
            [
             1,
             "#f0f921"
            ]
           ]
          },
          "colorway": [
           "#636efa",
           "#EF553B",
           "#00cc96",
           "#ab63fa",
           "#FFA15A",
           "#19d3f3",
           "#FF6692",
           "#B6E880",
           "#FF97FF",
           "#FECB52"
          ],
          "font": {
           "color": "#2a3f5f"
          },
          "geo": {
           "bgcolor": "white",
           "lakecolor": "white",
           "landcolor": "#E5ECF6",
           "showlakes": true,
           "showland": true,
           "subunitcolor": "white"
          },
          "hoverlabel": {
           "align": "left"
          },
          "hovermode": "closest",
          "mapbox": {
           "style": "light"
          },
          "paper_bgcolor": "white",
          "plot_bgcolor": "#E5ECF6",
          "polar": {
           "angularaxis": {
            "gridcolor": "white",
            "linecolor": "white",
            "ticks": ""
           },
           "bgcolor": "#E5ECF6",
           "radialaxis": {
            "gridcolor": "white",
            "linecolor": "white",
            "ticks": ""
           }
          },
          "scene": {
           "xaxis": {
            "backgroundcolor": "#E5ECF6",
            "gridcolor": "white",
            "gridwidth": 2,
            "linecolor": "white",
            "showbackground": true,
            "ticks": "",
            "zerolinecolor": "white"
           },
           "yaxis": {
            "backgroundcolor": "#E5ECF6",
            "gridcolor": "white",
            "gridwidth": 2,
            "linecolor": "white",
            "showbackground": true,
            "ticks": "",
            "zerolinecolor": "white"
           },
           "zaxis": {
            "backgroundcolor": "#E5ECF6",
            "gridcolor": "white",
            "gridwidth": 2,
            "linecolor": "white",
            "showbackground": true,
            "ticks": "",
            "zerolinecolor": "white"
           }
          },
          "shapedefaults": {
           "line": {
            "color": "#2a3f5f"
           }
          },
          "ternary": {
           "aaxis": {
            "gridcolor": "white",
            "linecolor": "white",
            "ticks": ""
           },
           "baxis": {
            "gridcolor": "white",
            "linecolor": "white",
            "ticks": ""
           },
           "bgcolor": "#E5ECF6",
           "caxis": {
            "gridcolor": "white",
            "linecolor": "white",
            "ticks": ""
           }
          },
          "title": {
           "x": 0.05
          },
          "xaxis": {
           "automargin": true,
           "gridcolor": "white",
           "linecolor": "white",
           "ticks": "",
           "title": {
            "standoff": 15
           },
           "zerolinecolor": "white",
           "zerolinewidth": 2
          },
          "yaxis": {
           "automargin": true,
           "gridcolor": "white",
           "linecolor": "white",
           "ticks": "",
           "title": {
            "standoff": 15
           },
           "zerolinecolor": "white",
           "zerolinewidth": 2
          }
         }
        },
        "xaxis": {
         "anchor": "y",
         "domain": [
          0,
          1
         ],
         "title": {
          "text": "x"
         }
        },
        "yaxis": {
         "anchor": "x",
         "domain": [
          0,
          1
         ],
         "title": {
          "text": "y"
         }
        }
       }
      },
      "text/html": [
       "<div>                            <div id=\"b5466f88-1507-4fa1-8e2b-96d45ec0ef98\" class=\"plotly-graph-div\" style=\"height:525px; width:100%;\"></div>            <script type=\"text/javascript\">                require([\"plotly\"], function(Plotly) {                    window.PLOTLYENV=window.PLOTLYENV || {};                                    if (document.getElementById(\"b5466f88-1507-4fa1-8e2b-96d45ec0ef98\")) {                    Plotly.newPlot(                        \"b5466f88-1507-4fa1-8e2b-96d45ec0ef98\",                        [{\"hovertemplate\":\"x=%{x}\\u003cbr\\u003ey=%{y}\\u003cextra\\u003e\\u003c\\u002fextra\\u003e\",\"legendgroup\":\"\",\"line\":{\"color\":\"#636efa\",\"dash\":\"solid\"},\"marker\":{\"symbol\":\"circle\"},\"mode\":\"lines\",\"name\":\"\",\"orientation\":\"v\",\"showlegend\":false,\"x\":[2016,2017,2018,2019,2020,2021,2022,2023],\"xaxis\":\"x\",\"y\":[176192171337.69058,52253266009.03858,545736805591.9191,42206751760.78431,181317224739.2008,188802194295.594,1256279136164.6462,1930323358004.7942],\"yaxis\":\"y\",\"type\":\"scatter\"}],                        {\"template\":{\"data\":{\"histogram2dcontour\":[{\"type\":\"histogram2dcontour\",\"colorbar\":{\"outlinewidth\":0,\"ticks\":\"\"},\"colorscale\":[[0.0,\"#0d0887\"],[0.1111111111111111,\"#46039f\"],[0.2222222222222222,\"#7201a8\"],[0.3333333333333333,\"#9c179e\"],[0.4444444444444444,\"#bd3786\"],[0.5555555555555556,\"#d8576b\"],[0.6666666666666666,\"#ed7953\"],[0.7777777777777778,\"#fb9f3a\"],[0.8888888888888888,\"#fdca26\"],[1.0,\"#f0f921\"]]}],\"choropleth\":[{\"type\":\"choropleth\",\"colorbar\":{\"outlinewidth\":0,\"ticks\":\"\"}}],\"histogram2d\":[{\"type\":\"histogram2d\",\"colorbar\":{\"outlinewidth\":0,\"ticks\":\"\"},\"colorscale\":[[0.0,\"#0d0887\"],[0.1111111111111111,\"#46039f\"],[0.2222222222222222,\"#7201a8\"],[0.3333333333333333,\"#9c179e\"],[0.4444444444444444,\"#bd3786\"],[0.5555555555555556,\"#d8576b\"],[0.6666666666666666,\"#ed7953\"],[0.7777777777777778,\"#fb9f3a\"],[0.8888888888888888,\"#fdca26\"],[1.0,\"#f0f921\"]]}],\"heatmap\":[{\"type\":\"heatmap\",\"colorbar\":{\"outlinewidth\":0,\"ticks\":\"\"},\"colorscale\":[[0.0,\"#0d0887\"],[0.1111111111111111,\"#46039f\"],[0.2222222222222222,\"#7201a8\"],[0.3333333333333333,\"#9c179e\"],[0.4444444444444444,\"#bd3786\"],[0.5555555555555556,\"#d8576b\"],[0.6666666666666666,\"#ed7953\"],[0.7777777777777778,\"#fb9f3a\"],[0.8888888888888888,\"#fdca26\"],[1.0,\"#f0f921\"]]}],\"heatmapgl\":[{\"type\":\"heatmapgl\",\"colorbar\":{\"outlinewidth\":0,\"ticks\":\"\"},\"colorscale\":[[0.0,\"#0d0887\"],[0.1111111111111111,\"#46039f\"],[0.2222222222222222,\"#7201a8\"],[0.3333333333333333,\"#9c179e\"],[0.4444444444444444,\"#bd3786\"],[0.5555555555555556,\"#d8576b\"],[0.6666666666666666,\"#ed7953\"],[0.7777777777777778,\"#fb9f3a\"],[0.8888888888888888,\"#fdca26\"],[1.0,\"#f0f921\"]]}],\"contourcarpet\":[{\"type\":\"contourcarpet\",\"colorbar\":{\"outlinewidth\":0,\"ticks\":\"\"}}],\"contour\":[{\"type\":\"contour\",\"colorbar\":{\"outlinewidth\":0,\"ticks\":\"\"},\"colorscale\":[[0.0,\"#0d0887\"],[0.1111111111111111,\"#46039f\"],[0.2222222222222222,\"#7201a8\"],[0.3333333333333333,\"#9c179e\"],[0.4444444444444444,\"#bd3786\"],[0.5555555555555556,\"#d8576b\"],[0.6666666666666666,\"#ed7953\"],[0.7777777777777778,\"#fb9f3a\"],[0.8888888888888888,\"#fdca26\"],[1.0,\"#f0f921\"]]}],\"surface\":[{\"type\":\"surface\",\"colorbar\":{\"outlinewidth\":0,\"ticks\":\"\"},\"colorscale\":[[0.0,\"#0d0887\"],[0.1111111111111111,\"#46039f\"],[0.2222222222222222,\"#7201a8\"],[0.3333333333333333,\"#9c179e\"],[0.4444444444444444,\"#bd3786\"],[0.5555555555555556,\"#d8576b\"],[0.6666666666666666,\"#ed7953\"],[0.7777777777777778,\"#fb9f3a\"],[0.8888888888888888,\"#fdca26\"],[1.0,\"#f0f921\"]]}],\"mesh3d\":[{\"type\":\"mesh3d\",\"colorbar\":{\"outlinewidth\":0,\"ticks\":\"\"}}],\"scatter\":[{\"fillpattern\":{\"fillmode\":\"overlay\",\"size\":10,\"solidity\":0.2},\"type\":\"scatter\"}],\"parcoords\":[{\"type\":\"parcoords\",\"line\":{\"colorbar\":{\"outlinewidth\":0,\"ticks\":\"\"}}}],\"scatterpolargl\":[{\"type\":\"scatterpolargl\",\"marker\":{\"colorbar\":{\"outlinewidth\":0,\"ticks\":\"\"}}}],\"bar\":[{\"error_x\":{\"color\":\"#2a3f5f\"},\"error_y\":{\"color\":\"#2a3f5f\"},\"marker\":{\"line\":{\"color\":\"#E5ECF6\",\"width\":0.5},\"pattern\":{\"fillmode\":\"overlay\",\"size\":10,\"solidity\":0.2}},\"type\":\"bar\"}],\"scattergeo\":[{\"type\":\"scattergeo\",\"marker\":{\"colorbar\":{\"outlinewidth\":0,\"ticks\":\"\"}}}],\"scatterpolar\":[{\"type\":\"scatterpolar\",\"marker\":{\"colorbar\":{\"outlinewidth\":0,\"ticks\":\"\"}}}],\"histogram\":[{\"marker\":{\"pattern\":{\"fillmode\":\"overlay\",\"size\":10,\"solidity\":0.2}},\"type\":\"histogram\"}],\"scattergl\":[{\"type\":\"scattergl\",\"marker\":{\"colorbar\":{\"outlinewidth\":0,\"ticks\":\"\"}}}],\"scatter3d\":[{\"type\":\"scatter3d\",\"line\":{\"colorbar\":{\"outlinewidth\":0,\"ticks\":\"\"}},\"marker\":{\"colorbar\":{\"outlinewidth\":0,\"ticks\":\"\"}}}],\"scattermapbox\":[{\"type\":\"scattermapbox\",\"marker\":{\"colorbar\":{\"outlinewidth\":0,\"ticks\":\"\"}}}],\"scatterternary\":[{\"type\":\"scatterternary\",\"marker\":{\"colorbar\":{\"outlinewidth\":0,\"ticks\":\"\"}}}],\"scattercarpet\":[{\"type\":\"scattercarpet\",\"marker\":{\"colorbar\":{\"outlinewidth\":0,\"ticks\":\"\"}}}],\"carpet\":[{\"aaxis\":{\"endlinecolor\":\"#2a3f5f\",\"gridcolor\":\"white\",\"linecolor\":\"white\",\"minorgridcolor\":\"white\",\"startlinecolor\":\"#2a3f5f\"},\"baxis\":{\"endlinecolor\":\"#2a3f5f\",\"gridcolor\":\"white\",\"linecolor\":\"white\",\"minorgridcolor\":\"white\",\"startlinecolor\":\"#2a3f5f\"},\"type\":\"carpet\"}],\"table\":[{\"cells\":{\"fill\":{\"color\":\"#EBF0F8\"},\"line\":{\"color\":\"white\"}},\"header\":{\"fill\":{\"color\":\"#C8D4E3\"},\"line\":{\"color\":\"white\"}},\"type\":\"table\"}],\"barpolar\":[{\"marker\":{\"line\":{\"color\":\"#E5ECF6\",\"width\":0.5},\"pattern\":{\"fillmode\":\"overlay\",\"size\":10,\"solidity\":0.2}},\"type\":\"barpolar\"}],\"pie\":[{\"automargin\":true,\"type\":\"pie\"}]},\"layout\":{\"autotypenumbers\":\"strict\",\"colorway\":[\"#636efa\",\"#EF553B\",\"#00cc96\",\"#ab63fa\",\"#FFA15A\",\"#19d3f3\",\"#FF6692\",\"#B6E880\",\"#FF97FF\",\"#FECB52\"],\"font\":{\"color\":\"#2a3f5f\"},\"hovermode\":\"closest\",\"hoverlabel\":{\"align\":\"left\"},\"paper_bgcolor\":\"white\",\"plot_bgcolor\":\"#E5ECF6\",\"polar\":{\"bgcolor\":\"#E5ECF6\",\"angularaxis\":{\"gridcolor\":\"white\",\"linecolor\":\"white\",\"ticks\":\"\"},\"radialaxis\":{\"gridcolor\":\"white\",\"linecolor\":\"white\",\"ticks\":\"\"}},\"ternary\":{\"bgcolor\":\"#E5ECF6\",\"aaxis\":{\"gridcolor\":\"white\",\"linecolor\":\"white\",\"ticks\":\"\"},\"baxis\":{\"gridcolor\":\"white\",\"linecolor\":\"white\",\"ticks\":\"\"},\"caxis\":{\"gridcolor\":\"white\",\"linecolor\":\"white\",\"ticks\":\"\"}},\"coloraxis\":{\"colorbar\":{\"outlinewidth\":0,\"ticks\":\"\"}},\"colorscale\":{\"sequential\":[[0.0,\"#0d0887\"],[0.1111111111111111,\"#46039f\"],[0.2222222222222222,\"#7201a8\"],[0.3333333333333333,\"#9c179e\"],[0.4444444444444444,\"#bd3786\"],[0.5555555555555556,\"#d8576b\"],[0.6666666666666666,\"#ed7953\"],[0.7777777777777778,\"#fb9f3a\"],[0.8888888888888888,\"#fdca26\"],[1.0,\"#f0f921\"]],\"sequentialminus\":[[0.0,\"#0d0887\"],[0.1111111111111111,\"#46039f\"],[0.2222222222222222,\"#7201a8\"],[0.3333333333333333,\"#9c179e\"],[0.4444444444444444,\"#bd3786\"],[0.5555555555555556,\"#d8576b\"],[0.6666666666666666,\"#ed7953\"],[0.7777777777777778,\"#fb9f3a\"],[0.8888888888888888,\"#fdca26\"],[1.0,\"#f0f921\"]],\"diverging\":[[0,\"#8e0152\"],[0.1,\"#c51b7d\"],[0.2,\"#de77ae\"],[0.3,\"#f1b6da\"],[0.4,\"#fde0ef\"],[0.5,\"#f7f7f7\"],[0.6,\"#e6f5d0\"],[0.7,\"#b8e186\"],[0.8,\"#7fbc41\"],[0.9,\"#4d9221\"],[1,\"#276419\"]]},\"xaxis\":{\"gridcolor\":\"white\",\"linecolor\":\"white\",\"ticks\":\"\",\"title\":{\"standoff\":15},\"zerolinecolor\":\"white\",\"automargin\":true,\"zerolinewidth\":2},\"yaxis\":{\"gridcolor\":\"white\",\"linecolor\":\"white\",\"ticks\":\"\",\"title\":{\"standoff\":15},\"zerolinecolor\":\"white\",\"automargin\":true,\"zerolinewidth\":2},\"scene\":{\"xaxis\":{\"backgroundcolor\":\"#E5ECF6\",\"gridcolor\":\"white\",\"linecolor\":\"white\",\"showbackground\":true,\"ticks\":\"\",\"zerolinecolor\":\"white\",\"gridwidth\":2},\"yaxis\":{\"backgroundcolor\":\"#E5ECF6\",\"gridcolor\":\"white\",\"linecolor\":\"white\",\"showbackground\":true,\"ticks\":\"\",\"zerolinecolor\":\"white\",\"gridwidth\":2},\"zaxis\":{\"backgroundcolor\":\"#E5ECF6\",\"gridcolor\":\"white\",\"linecolor\":\"white\",\"showbackground\":true,\"ticks\":\"\",\"zerolinecolor\":\"white\",\"gridwidth\":2}},\"shapedefaults\":{\"line\":{\"color\":\"#2a3f5f\"}},\"annotationdefaults\":{\"arrowcolor\":\"#2a3f5f\",\"arrowhead\":0,\"arrowwidth\":1},\"geo\":{\"bgcolor\":\"white\",\"landcolor\":\"#E5ECF6\",\"subunitcolor\":\"white\",\"showland\":true,\"showlakes\":true,\"lakecolor\":\"white\"},\"title\":{\"x\":0.05},\"mapbox\":{\"style\":\"light\"}}},\"xaxis\":{\"anchor\":\"y\",\"domain\":[0.0,1.0],\"title\":{\"text\":\"x\"}},\"yaxis\":{\"anchor\":\"x\",\"domain\":[0.0,1.0],\"title\":{\"text\":\"y\"}},\"legend\":{\"tracegroupgap\":0},\"margin\":{\"t\":60}},                        {\"responsive\": true}                    ).then(function(){\n",
       "                            \n",
       "var gd = document.getElementById('b5466f88-1507-4fa1-8e2b-96d45ec0ef98');\n",
       "var x = new MutationObserver(function (mutations, observer) {{\n",
       "        var display = window.getComputedStyle(gd).display;\n",
       "        if (!display || display === 'none') {{\n",
       "            console.log([gd, 'removed!']);\n",
       "            Plotly.purge(gd);\n",
       "            observer.disconnect();\n",
       "        }}\n",
       "}});\n",
       "\n",
       "// Listen for the removal of the full notebook cells\n",
       "var notebookContainer = gd.closest('#notebook-container');\n",
       "if (notebookContainer) {{\n",
       "    x.observe(notebookContainer, {childList: true});\n",
       "}}\n",
       "\n",
       "// Listen for the clearing of the current output cell\n",
       "var outputEl = gd.closest('.output');\n",
       "if (outputEl) {{\n",
       "    x.observe(outputEl, {childList: true});\n",
       "}}\n",
       "\n",
       "                        })                };                });            </script>        </div>"
      ]
     },
     "metadata": {},
     "output_type": "display_data"
    }
   ],
   "source": [
    "px.line(x=unique_year, y=yearly_data)"
   ]
  },
  {
   "cell_type": "code",
   "execution_count": 103,
   "metadata": {},
   "outputs": [
    {
     "data": {
      "application/vnd.plotly.v1+json": {
       "config": {
        "plotlyServerURL": "https://plot.ly"
       },
       "data": [
        {
         "hovertemplate": "year=2015<br>month=%{x}<br>areas=%{y}<extra></extra>",
         "legendgroup": "2015",
         "line": {
          "color": "#636efa",
          "dash": "solid"
         },
         "marker": {
          "symbol": "circle"
         },
         "mode": "lines",
         "name": "2015",
         "orientation": "v",
         "showlegend": true,
         "type": "scatter",
         "x": [
          12
         ],
         "xaxis": "x",
         "y": [
          150543634823.75092
         ],
         "yaxis": "y"
        },
        {
         "hovertemplate": "year=2016<br>month=%{x}<br>areas=%{y}<extra></extra>",
         "legendgroup": "2016",
         "line": {
          "color": "#EF553B",
          "dash": "solid"
         },
         "marker": {
          "symbol": "circle"
         },
         "mode": "lines",
         "name": "2016",
         "orientation": "v",
         "showlegend": true,
         "type": "scatter",
         "x": [
          1,
          2,
          3,
          4,
          5,
          6,
          7,
          8,
          9,
          10,
          11,
          12
         ],
         "xaxis": "x",
         "y": [
          157672526400,
          270962054906.69122,
          270962054906.69122,
          165924405984.43057,
          154198013578.34064,
          154198013578.34064,
          154198013578.34064,
          154198013578.34064,
          154198013578.34064,
          234365643571.7708,
          91400227786.85121,
          93443139410.38063
         ],
         "yaxis": "y"
        },
        {
         "hovertemplate": "year=2017<br>month=%{x}<br>areas=%{y}<extra></extra>",
         "legendgroup": "2017",
         "line": {
          "color": "#00cc96",
          "dash": "solid"
         },
         "marker": {
          "symbol": "circle"
         },
         "mode": "lines",
         "name": "2017",
         "orientation": "v",
         "showlegend": true,
         "type": "scatter",
         "x": [
          1,
          2,
          3,
          4,
          5,
          6,
          7,
          8,
          9,
          10,
          11,
          12
         ],
         "xaxis": "x",
         "y": [
          51647107600,
          92197249600,
          127460536261.04424,
          15807884982.69896,
          10713370264.58132,
          15693447345.906956,
          15693447345.906956,
          15693447345.906956,
          15738578202.377544,
          15738578202.377544,
          805308600949.4246,
          1082931609600.001
         ],
         "yaxis": "y"
        },
        {
         "hovertemplate": "year=2018<br>month=%{x}<br>areas=%{y}<extra></extra>",
         "legendgroup": "2018",
         "line": {
          "color": "#ab63fa",
          "dash": "solid"
         },
         "marker": {
          "symbol": "circle"
         },
         "mode": "lines",
         "name": "2018",
         "orientation": "v",
         "showlegend": true,
         "type": "scatter",
         "x": [
          1,
          2,
          3,
          4,
          5,
          6,
          7,
          8,
          9,
          10,
          11,
          12
         ],
         "xaxis": "x",
         "y": [
          1136854859129.8054,
          794570049685.7579,
          519704612711.6402,
          350289625460.26306,
          199582444021.98532,
          273419242542.06226,
          273419242542.06226,
          279340354471.64014,
          289058540652.1244,
          314548279703.9231,
          199492053788.44443,
          134122545851.59555
         ],
         "yaxis": "y"
        },
        {
         "hovertemplate": "year=2019<br>month=%{x}<br>areas=%{y}<extra></extra>",
         "legendgroup": "2019",
         "line": {
          "color": "#FFA15A",
          "dash": "solid"
         },
         "marker": {
          "symbol": "circle"
         },
         "mode": "lines",
         "name": "2019",
         "orientation": "v",
         "showlegend": true,
         "type": "scatter",
         "x": [
          1,
          2,
          3,
          4,
          5,
          6,
          7,
          8,
          9,
          10,
          11,
          12
         ],
         "xaxis": "x",
         "y": [
          86764484671.77853,
          54843688726.145325,
          38741724710.08997,
          24056010000,
          24354723600,
          24479878856.692036,
          24420472234.37755,
          24420472234.37755,
          24317723903.169548,
          24583559100.536713,
          181496181266.92197,
          185825841578.9681
         ],
         "yaxis": "y"
        },
        {
         "hovertemplate": "year=2020<br>month=%{x}<br>areas=%{y}<extra></extra>",
         "legendgroup": "2020",
         "line": {
          "color": "#19d3f3",
          "dash": "solid"
         },
         "marker": {
          "symbol": "circle"
         },
         "mode": "lines",
         "name": "2020",
         "orientation": "v",
         "showlegend": true,
         "type": "scatter",
         "x": [
          1,
          2,
          3,
          4,
          5,
          6,
          7,
          8,
          9,
          10,
          11,
          12
         ],
         "xaxis": "x",
         "y": [
          220806010000,
          258322806188.4444,
          139508929138.76813,
          157136504302.3391,
          172246938737.83316,
          172246938737.83316,
          139882160067.82004,
          139882160067.82004,
          139882160067.82004,
          161137512657.64862,
          438481209815.64624,
          240970489530.02692
         ],
         "yaxis": "y"
        },
        {
         "hovertemplate": "year=2021<br>month=%{x}<br>areas=%{y}<extra></extra>",
         "legendgroup": "2021",
         "line": {
          "color": "#FF6692",
          "dash": "solid"
         },
         "marker": {
          "symbol": "circle"
         },
         "mode": "lines",
         "name": "2021",
         "orientation": "v",
         "showlegend": true,
         "type": "scatter",
         "x": [
          1,
          2,
          3,
          4,
          5,
          6,
          7,
          8,
          9,
          10,
          11,
          12
         ],
         "xaxis": "x",
         "y": [
          203955311258.13147,
          305212051600,
          275004737585.827,
          196446818923.28186,
          81991359175.11113,
          70202887231.2126,
          70202887231.2126,
          70202887231.2126,
          69981370103.53554,
          69981370103.53554,
          69981370103.53554,
          1009777194024.9685
         ],
         "yaxis": "y"
        },
        {
         "hovertemplate": "year=2022<br>month=%{x}<br>areas=%{y}<extra></extra>",
         "legendgroup": "2022",
         "line": {
          "color": "#B6E880",
          "dash": "solid"
         },
         "marker": {
          "symbol": "circle"
         },
         "mode": "lines",
         "name": "2022",
         "orientation": "v",
         "showlegend": true,
         "type": "scatter",
         "x": [
          1,
          2,
          3,
          4,
          5,
          6,
          7,
          8,
          9,
          10,
          11,
          12
         ],
         "xaxis": "x",
         "y": [
          1643106748054.5942,
          1539071818711.1104,
          1177755390707.9187,
          1001619321687.111,
          915511266435.9857,
          1260610271391.1582,
          1386565171802.452,
          1452886868247.48,
          4005502753963.278,
          5320738972062.615,
          1985919576989.2861,
          1360106407696
         ],
         "yaxis": "y"
        },
        {
         "hovertemplate": "year=2023<br>month=%{x}<br>areas=%{y}<extra></extra>",
         "legendgroup": "2023",
         "line": {
          "color": "#FF97FF",
          "dash": "solid"
         },
         "marker": {
          "symbol": "circle"
         },
         "mode": "lines",
         "name": "2023",
         "orientation": "v",
         "showlegend": true,
         "type": "scatter",
         "x": [
          1,
          2,
          3
         ],
         "xaxis": "x",
         "y": [
          1508106706182.355,
          1968649993258.1316,
          2314213374573.8965
         ],
         "yaxis": "y"
        }
       ],
       "layout": {
        "legend": {
         "title": {
          "text": "year"
         },
         "tracegroupgap": 0
        },
        "margin": {
         "t": 60
        },
        "template": {
         "data": {
          "bar": [
           {
            "error_x": {
             "color": "#2a3f5f"
            },
            "error_y": {
             "color": "#2a3f5f"
            },
            "marker": {
             "line": {
              "color": "#E5ECF6",
              "width": 0.5
             },
             "pattern": {
              "fillmode": "overlay",
              "size": 10,
              "solidity": 0.2
             }
            },
            "type": "bar"
           }
          ],
          "barpolar": [
           {
            "marker": {
             "line": {
              "color": "#E5ECF6",
              "width": 0.5
             },
             "pattern": {
              "fillmode": "overlay",
              "size": 10,
              "solidity": 0.2
             }
            },
            "type": "barpolar"
           }
          ],
          "carpet": [
           {
            "aaxis": {
             "endlinecolor": "#2a3f5f",
             "gridcolor": "white",
             "linecolor": "white",
             "minorgridcolor": "white",
             "startlinecolor": "#2a3f5f"
            },
            "baxis": {
             "endlinecolor": "#2a3f5f",
             "gridcolor": "white",
             "linecolor": "white",
             "minorgridcolor": "white",
             "startlinecolor": "#2a3f5f"
            },
            "type": "carpet"
           }
          ],
          "choropleth": [
           {
            "colorbar": {
             "outlinewidth": 0,
             "ticks": ""
            },
            "type": "choropleth"
           }
          ],
          "contour": [
           {
            "colorbar": {
             "outlinewidth": 0,
             "ticks": ""
            },
            "colorscale": [
             [
              0,
              "#0d0887"
             ],
             [
              0.1111111111111111,
              "#46039f"
             ],
             [
              0.2222222222222222,
              "#7201a8"
             ],
             [
              0.3333333333333333,
              "#9c179e"
             ],
             [
              0.4444444444444444,
              "#bd3786"
             ],
             [
              0.5555555555555556,
              "#d8576b"
             ],
             [
              0.6666666666666666,
              "#ed7953"
             ],
             [
              0.7777777777777778,
              "#fb9f3a"
             ],
             [
              0.8888888888888888,
              "#fdca26"
             ],
             [
              1,
              "#f0f921"
             ]
            ],
            "type": "contour"
           }
          ],
          "contourcarpet": [
           {
            "colorbar": {
             "outlinewidth": 0,
             "ticks": ""
            },
            "type": "contourcarpet"
           }
          ],
          "heatmap": [
           {
            "colorbar": {
             "outlinewidth": 0,
             "ticks": ""
            },
            "colorscale": [
             [
              0,
              "#0d0887"
             ],
             [
              0.1111111111111111,
              "#46039f"
             ],
             [
              0.2222222222222222,
              "#7201a8"
             ],
             [
              0.3333333333333333,
              "#9c179e"
             ],
             [
              0.4444444444444444,
              "#bd3786"
             ],
             [
              0.5555555555555556,
              "#d8576b"
             ],
             [
              0.6666666666666666,
              "#ed7953"
             ],
             [
              0.7777777777777778,
              "#fb9f3a"
             ],
             [
              0.8888888888888888,
              "#fdca26"
             ],
             [
              1,
              "#f0f921"
             ]
            ],
            "type": "heatmap"
           }
          ],
          "heatmapgl": [
           {
            "colorbar": {
             "outlinewidth": 0,
             "ticks": ""
            },
            "colorscale": [
             [
              0,
              "#0d0887"
             ],
             [
              0.1111111111111111,
              "#46039f"
             ],
             [
              0.2222222222222222,
              "#7201a8"
             ],
             [
              0.3333333333333333,
              "#9c179e"
             ],
             [
              0.4444444444444444,
              "#bd3786"
             ],
             [
              0.5555555555555556,
              "#d8576b"
             ],
             [
              0.6666666666666666,
              "#ed7953"
             ],
             [
              0.7777777777777778,
              "#fb9f3a"
             ],
             [
              0.8888888888888888,
              "#fdca26"
             ],
             [
              1,
              "#f0f921"
             ]
            ],
            "type": "heatmapgl"
           }
          ],
          "histogram": [
           {
            "marker": {
             "pattern": {
              "fillmode": "overlay",
              "size": 10,
              "solidity": 0.2
             }
            },
            "type": "histogram"
           }
          ],
          "histogram2d": [
           {
            "colorbar": {
             "outlinewidth": 0,
             "ticks": ""
            },
            "colorscale": [
             [
              0,
              "#0d0887"
             ],
             [
              0.1111111111111111,
              "#46039f"
             ],
             [
              0.2222222222222222,
              "#7201a8"
             ],
             [
              0.3333333333333333,
              "#9c179e"
             ],
             [
              0.4444444444444444,
              "#bd3786"
             ],
             [
              0.5555555555555556,
              "#d8576b"
             ],
             [
              0.6666666666666666,
              "#ed7953"
             ],
             [
              0.7777777777777778,
              "#fb9f3a"
             ],
             [
              0.8888888888888888,
              "#fdca26"
             ],
             [
              1,
              "#f0f921"
             ]
            ],
            "type": "histogram2d"
           }
          ],
          "histogram2dcontour": [
           {
            "colorbar": {
             "outlinewidth": 0,
             "ticks": ""
            },
            "colorscale": [
             [
              0,
              "#0d0887"
             ],
             [
              0.1111111111111111,
              "#46039f"
             ],
             [
              0.2222222222222222,
              "#7201a8"
             ],
             [
              0.3333333333333333,
              "#9c179e"
             ],
             [
              0.4444444444444444,
              "#bd3786"
             ],
             [
              0.5555555555555556,
              "#d8576b"
             ],
             [
              0.6666666666666666,
              "#ed7953"
             ],
             [
              0.7777777777777778,
              "#fb9f3a"
             ],
             [
              0.8888888888888888,
              "#fdca26"
             ],
             [
              1,
              "#f0f921"
             ]
            ],
            "type": "histogram2dcontour"
           }
          ],
          "mesh3d": [
           {
            "colorbar": {
             "outlinewidth": 0,
             "ticks": ""
            },
            "type": "mesh3d"
           }
          ],
          "parcoords": [
           {
            "line": {
             "colorbar": {
              "outlinewidth": 0,
              "ticks": ""
             }
            },
            "type": "parcoords"
           }
          ],
          "pie": [
           {
            "automargin": true,
            "type": "pie"
           }
          ],
          "scatter": [
           {
            "fillpattern": {
             "fillmode": "overlay",
             "size": 10,
             "solidity": 0.2
            },
            "type": "scatter"
           }
          ],
          "scatter3d": [
           {
            "line": {
             "colorbar": {
              "outlinewidth": 0,
              "ticks": ""
             }
            },
            "marker": {
             "colorbar": {
              "outlinewidth": 0,
              "ticks": ""
             }
            },
            "type": "scatter3d"
           }
          ],
          "scattercarpet": [
           {
            "marker": {
             "colorbar": {
              "outlinewidth": 0,
              "ticks": ""
             }
            },
            "type": "scattercarpet"
           }
          ],
          "scattergeo": [
           {
            "marker": {
             "colorbar": {
              "outlinewidth": 0,
              "ticks": ""
             }
            },
            "type": "scattergeo"
           }
          ],
          "scattergl": [
           {
            "marker": {
             "colorbar": {
              "outlinewidth": 0,
              "ticks": ""
             }
            },
            "type": "scattergl"
           }
          ],
          "scattermapbox": [
           {
            "marker": {
             "colorbar": {
              "outlinewidth": 0,
              "ticks": ""
             }
            },
            "type": "scattermapbox"
           }
          ],
          "scatterpolar": [
           {
            "marker": {
             "colorbar": {
              "outlinewidth": 0,
              "ticks": ""
             }
            },
            "type": "scatterpolar"
           }
          ],
          "scatterpolargl": [
           {
            "marker": {
             "colorbar": {
              "outlinewidth": 0,
              "ticks": ""
             }
            },
            "type": "scatterpolargl"
           }
          ],
          "scatterternary": [
           {
            "marker": {
             "colorbar": {
              "outlinewidth": 0,
              "ticks": ""
             }
            },
            "type": "scatterternary"
           }
          ],
          "surface": [
           {
            "colorbar": {
             "outlinewidth": 0,
             "ticks": ""
            },
            "colorscale": [
             [
              0,
              "#0d0887"
             ],
             [
              0.1111111111111111,
              "#46039f"
             ],
             [
              0.2222222222222222,
              "#7201a8"
             ],
             [
              0.3333333333333333,
              "#9c179e"
             ],
             [
              0.4444444444444444,
              "#bd3786"
             ],
             [
              0.5555555555555556,
              "#d8576b"
             ],
             [
              0.6666666666666666,
              "#ed7953"
             ],
             [
              0.7777777777777778,
              "#fb9f3a"
             ],
             [
              0.8888888888888888,
              "#fdca26"
             ],
             [
              1,
              "#f0f921"
             ]
            ],
            "type": "surface"
           }
          ],
          "table": [
           {
            "cells": {
             "fill": {
              "color": "#EBF0F8"
             },
             "line": {
              "color": "white"
             }
            },
            "header": {
             "fill": {
              "color": "#C8D4E3"
             },
             "line": {
              "color": "white"
             }
            },
            "type": "table"
           }
          ]
         },
         "layout": {
          "annotationdefaults": {
           "arrowcolor": "#2a3f5f",
           "arrowhead": 0,
           "arrowwidth": 1
          },
          "autotypenumbers": "strict",
          "coloraxis": {
           "colorbar": {
            "outlinewidth": 0,
            "ticks": ""
           }
          },
          "colorscale": {
           "diverging": [
            [
             0,
             "#8e0152"
            ],
            [
             0.1,
             "#c51b7d"
            ],
            [
             0.2,
             "#de77ae"
            ],
            [
             0.3,
             "#f1b6da"
            ],
            [
             0.4,
             "#fde0ef"
            ],
            [
             0.5,
             "#f7f7f7"
            ],
            [
             0.6,
             "#e6f5d0"
            ],
            [
             0.7,
             "#b8e186"
            ],
            [
             0.8,
             "#7fbc41"
            ],
            [
             0.9,
             "#4d9221"
            ],
            [
             1,
             "#276419"
            ]
           ],
           "sequential": [
            [
             0,
             "#0d0887"
            ],
            [
             0.1111111111111111,
             "#46039f"
            ],
            [
             0.2222222222222222,
             "#7201a8"
            ],
            [
             0.3333333333333333,
             "#9c179e"
            ],
            [
             0.4444444444444444,
             "#bd3786"
            ],
            [
             0.5555555555555556,
             "#d8576b"
            ],
            [
             0.6666666666666666,
             "#ed7953"
            ],
            [
             0.7777777777777778,
             "#fb9f3a"
            ],
            [
             0.8888888888888888,
             "#fdca26"
            ],
            [
             1,
             "#f0f921"
            ]
           ],
           "sequentialminus": [
            [
             0,
             "#0d0887"
            ],
            [
             0.1111111111111111,
             "#46039f"
            ],
            [
             0.2222222222222222,
             "#7201a8"
            ],
            [
             0.3333333333333333,
             "#9c179e"
            ],
            [
             0.4444444444444444,
             "#bd3786"
            ],
            [
             0.5555555555555556,
             "#d8576b"
            ],
            [
             0.6666666666666666,
             "#ed7953"
            ],
            [
             0.7777777777777778,
             "#fb9f3a"
            ],
            [
             0.8888888888888888,
             "#fdca26"
            ],
            [
             1,
             "#f0f921"
            ]
           ]
          },
          "colorway": [
           "#636efa",
           "#EF553B",
           "#00cc96",
           "#ab63fa",
           "#FFA15A",
           "#19d3f3",
           "#FF6692",
           "#B6E880",
           "#FF97FF",
           "#FECB52"
          ],
          "font": {
           "color": "#2a3f5f"
          },
          "geo": {
           "bgcolor": "white",
           "lakecolor": "white",
           "landcolor": "#E5ECF6",
           "showlakes": true,
           "showland": true,
           "subunitcolor": "white"
          },
          "hoverlabel": {
           "align": "left"
          },
          "hovermode": "closest",
          "mapbox": {
           "style": "light"
          },
          "paper_bgcolor": "white",
          "plot_bgcolor": "#E5ECF6",
          "polar": {
           "angularaxis": {
            "gridcolor": "white",
            "linecolor": "white",
            "ticks": ""
           },
           "bgcolor": "#E5ECF6",
           "radialaxis": {
            "gridcolor": "white",
            "linecolor": "white",
            "ticks": ""
           }
          },
          "scene": {
           "xaxis": {
            "backgroundcolor": "#E5ECF6",
            "gridcolor": "white",
            "gridwidth": 2,
            "linecolor": "white",
            "showbackground": true,
            "ticks": "",
            "zerolinecolor": "white"
           },
           "yaxis": {
            "backgroundcolor": "#E5ECF6",
            "gridcolor": "white",
            "gridwidth": 2,
            "linecolor": "white",
            "showbackground": true,
            "ticks": "",
            "zerolinecolor": "white"
           },
           "zaxis": {
            "backgroundcolor": "#E5ECF6",
            "gridcolor": "white",
            "gridwidth": 2,
            "linecolor": "white",
            "showbackground": true,
            "ticks": "",
            "zerolinecolor": "white"
           }
          },
          "shapedefaults": {
           "line": {
            "color": "#2a3f5f"
           }
          },
          "ternary": {
           "aaxis": {
            "gridcolor": "white",
            "linecolor": "white",
            "ticks": ""
           },
           "baxis": {
            "gridcolor": "white",
            "linecolor": "white",
            "ticks": ""
           },
           "bgcolor": "#E5ECF6",
           "caxis": {
            "gridcolor": "white",
            "linecolor": "white",
            "ticks": ""
           }
          },
          "title": {
           "x": 0.05
          },
          "xaxis": {
           "automargin": true,
           "gridcolor": "white",
           "linecolor": "white",
           "ticks": "",
           "title": {
            "standoff": 15
           },
           "zerolinecolor": "white",
           "zerolinewidth": 2
          },
          "yaxis": {
           "automargin": true,
           "gridcolor": "white",
           "linecolor": "white",
           "ticks": "",
           "title": {
            "standoff": 15
           },
           "zerolinecolor": "white",
           "zerolinewidth": 2
          }
         }
        },
        "xaxis": {
         "anchor": "y",
         "domain": [
          0,
          1
         ],
         "title": {
          "text": "month"
         }
        },
        "yaxis": {
         "anchor": "x",
         "domain": [
          0,
          1
         ],
         "title": {
          "text": "areas"
         }
        }
       }
      },
      "text/html": [
       "<div>                            <div id=\"8f1d62e9-87c4-4703-9368-27a72a16006a\" class=\"plotly-graph-div\" style=\"height:525px; width:100%;\"></div>            <script type=\"text/javascript\">                require([\"plotly\"], function(Plotly) {                    window.PLOTLYENV=window.PLOTLYENV || {};                                    if (document.getElementById(\"8f1d62e9-87c4-4703-9368-27a72a16006a\")) {                    Plotly.newPlot(                        \"8f1d62e9-87c4-4703-9368-27a72a16006a\",                        [{\"hovertemplate\":\"year=2015\\u003cbr\\u003emonth=%{x}\\u003cbr\\u003eareas=%{y}\\u003cextra\\u003e\\u003c\\u002fextra\\u003e\",\"legendgroup\":\"2015\",\"line\":{\"color\":\"#636efa\",\"dash\":\"solid\"},\"marker\":{\"symbol\":\"circle\"},\"mode\":\"lines\",\"name\":\"2015\",\"orientation\":\"v\",\"showlegend\":true,\"x\":[12],\"xaxis\":\"x\",\"y\":[150543634823.75092],\"yaxis\":\"y\",\"type\":\"scatter\"},{\"hovertemplate\":\"year=2016\\u003cbr\\u003emonth=%{x}\\u003cbr\\u003eareas=%{y}\\u003cextra\\u003e\\u003c\\u002fextra\\u003e\",\"legendgroup\":\"2016\",\"line\":{\"color\":\"#EF553B\",\"dash\":\"solid\"},\"marker\":{\"symbol\":\"circle\"},\"mode\":\"lines\",\"name\":\"2016\",\"orientation\":\"v\",\"showlegend\":true,\"x\":[1,2,3,4,5,6,7,8,9,10,11,12],\"xaxis\":\"x\",\"y\":[157672526400.0,270962054906.69122,270962054906.69122,165924405984.43057,154198013578.34064,154198013578.34064,154198013578.34064,154198013578.34064,154198013578.34064,234365643571.7708,91400227786.85121,93443139410.38063],\"yaxis\":\"y\",\"type\":\"scatter\"},{\"hovertemplate\":\"year=2017\\u003cbr\\u003emonth=%{x}\\u003cbr\\u003eareas=%{y}\\u003cextra\\u003e\\u003c\\u002fextra\\u003e\",\"legendgroup\":\"2017\",\"line\":{\"color\":\"#00cc96\",\"dash\":\"solid\"},\"marker\":{\"symbol\":\"circle\"},\"mode\":\"lines\",\"name\":\"2017\",\"orientation\":\"v\",\"showlegend\":true,\"x\":[1,2,3,4,5,6,7,8,9,10,11,12],\"xaxis\":\"x\",\"y\":[51647107600.0,92197249600.0,127460536261.04424,15807884982.69896,10713370264.58132,15693447345.906956,15693447345.906956,15693447345.906956,15738578202.377544,15738578202.377544,805308600949.4246,1082931609600.001],\"yaxis\":\"y\",\"type\":\"scatter\"},{\"hovertemplate\":\"year=2018\\u003cbr\\u003emonth=%{x}\\u003cbr\\u003eareas=%{y}\\u003cextra\\u003e\\u003c\\u002fextra\\u003e\",\"legendgroup\":\"2018\",\"line\":{\"color\":\"#ab63fa\",\"dash\":\"solid\"},\"marker\":{\"symbol\":\"circle\"},\"mode\":\"lines\",\"name\":\"2018\",\"orientation\":\"v\",\"showlegend\":true,\"x\":[1,2,3,4,5,6,7,8,9,10,11,12],\"xaxis\":\"x\",\"y\":[1136854859129.8054,794570049685.7579,519704612711.6402,350289625460.26306,199582444021.98532,273419242542.06226,273419242542.06226,279340354471.64014,289058540652.1244,314548279703.9231,199492053788.44443,134122545851.59555],\"yaxis\":\"y\",\"type\":\"scatter\"},{\"hovertemplate\":\"year=2019\\u003cbr\\u003emonth=%{x}\\u003cbr\\u003eareas=%{y}\\u003cextra\\u003e\\u003c\\u002fextra\\u003e\",\"legendgroup\":\"2019\",\"line\":{\"color\":\"#FFA15A\",\"dash\":\"solid\"},\"marker\":{\"symbol\":\"circle\"},\"mode\":\"lines\",\"name\":\"2019\",\"orientation\":\"v\",\"showlegend\":true,\"x\":[1,2,3,4,5,6,7,8,9,10,11,12],\"xaxis\":\"x\",\"y\":[86764484671.77853,54843688726.145325,38741724710.08997,24056010000.0,24354723600.0,24479878856.692036,24420472234.37755,24420472234.37755,24317723903.169548,24583559100.536713,181496181266.92197,185825841578.9681],\"yaxis\":\"y\",\"type\":\"scatter\"},{\"hovertemplate\":\"year=2020\\u003cbr\\u003emonth=%{x}\\u003cbr\\u003eareas=%{y}\\u003cextra\\u003e\\u003c\\u002fextra\\u003e\",\"legendgroup\":\"2020\",\"line\":{\"color\":\"#19d3f3\",\"dash\":\"solid\"},\"marker\":{\"symbol\":\"circle\"},\"mode\":\"lines\",\"name\":\"2020\",\"orientation\":\"v\",\"showlegend\":true,\"x\":[1,2,3,4,5,6,7,8,9,10,11,12],\"xaxis\":\"x\",\"y\":[220806010000.0,258322806188.4444,139508929138.76813,157136504302.3391,172246938737.83316,172246938737.83316,139882160067.82004,139882160067.82004,139882160067.82004,161137512657.64862,438481209815.64624,240970489530.02692],\"yaxis\":\"y\",\"type\":\"scatter\"},{\"hovertemplate\":\"year=2021\\u003cbr\\u003emonth=%{x}\\u003cbr\\u003eareas=%{y}\\u003cextra\\u003e\\u003c\\u002fextra\\u003e\",\"legendgroup\":\"2021\",\"line\":{\"color\":\"#FF6692\",\"dash\":\"solid\"},\"marker\":{\"symbol\":\"circle\"},\"mode\":\"lines\",\"name\":\"2021\",\"orientation\":\"v\",\"showlegend\":true,\"x\":[1,2,3,4,5,6,7,8,9,10,11,12],\"xaxis\":\"x\",\"y\":[203955311258.13147,305212051600.0,275004737585.827,196446818923.28186,81991359175.11113,70202887231.2126,70202887231.2126,70202887231.2126,69981370103.53554,69981370103.53554,69981370103.53554,1009777194024.9685],\"yaxis\":\"y\",\"type\":\"scatter\"},{\"hovertemplate\":\"year=2022\\u003cbr\\u003emonth=%{x}\\u003cbr\\u003eareas=%{y}\\u003cextra\\u003e\\u003c\\u002fextra\\u003e\",\"legendgroup\":\"2022\",\"line\":{\"color\":\"#B6E880\",\"dash\":\"solid\"},\"marker\":{\"symbol\":\"circle\"},\"mode\":\"lines\",\"name\":\"2022\",\"orientation\":\"v\",\"showlegend\":true,\"x\":[1,2,3,4,5,6,7,8,9,10,11,12],\"xaxis\":\"x\",\"y\":[1643106748054.5942,1539071818711.1104,1177755390707.9187,1001619321687.111,915511266435.9857,1260610271391.1582,1386565171802.452,1452886868247.48,4005502753963.278,5320738972062.615,1985919576989.2861,1360106407696.0],\"yaxis\":\"y\",\"type\":\"scatter\"},{\"hovertemplate\":\"year=2023\\u003cbr\\u003emonth=%{x}\\u003cbr\\u003eareas=%{y}\\u003cextra\\u003e\\u003c\\u002fextra\\u003e\",\"legendgroup\":\"2023\",\"line\":{\"color\":\"#FF97FF\",\"dash\":\"solid\"},\"marker\":{\"symbol\":\"circle\"},\"mode\":\"lines\",\"name\":\"2023\",\"orientation\":\"v\",\"showlegend\":true,\"x\":[1,2,3],\"xaxis\":\"x\",\"y\":[1508106706182.355,1968649993258.1316,2314213374573.8965],\"yaxis\":\"y\",\"type\":\"scatter\"}],                        {\"template\":{\"data\":{\"histogram2dcontour\":[{\"type\":\"histogram2dcontour\",\"colorbar\":{\"outlinewidth\":0,\"ticks\":\"\"},\"colorscale\":[[0.0,\"#0d0887\"],[0.1111111111111111,\"#46039f\"],[0.2222222222222222,\"#7201a8\"],[0.3333333333333333,\"#9c179e\"],[0.4444444444444444,\"#bd3786\"],[0.5555555555555556,\"#d8576b\"],[0.6666666666666666,\"#ed7953\"],[0.7777777777777778,\"#fb9f3a\"],[0.8888888888888888,\"#fdca26\"],[1.0,\"#f0f921\"]]}],\"choropleth\":[{\"type\":\"choropleth\",\"colorbar\":{\"outlinewidth\":0,\"ticks\":\"\"}}],\"histogram2d\":[{\"type\":\"histogram2d\",\"colorbar\":{\"outlinewidth\":0,\"ticks\":\"\"},\"colorscale\":[[0.0,\"#0d0887\"],[0.1111111111111111,\"#46039f\"],[0.2222222222222222,\"#7201a8\"],[0.3333333333333333,\"#9c179e\"],[0.4444444444444444,\"#bd3786\"],[0.5555555555555556,\"#d8576b\"],[0.6666666666666666,\"#ed7953\"],[0.7777777777777778,\"#fb9f3a\"],[0.8888888888888888,\"#fdca26\"],[1.0,\"#f0f921\"]]}],\"heatmap\":[{\"type\":\"heatmap\",\"colorbar\":{\"outlinewidth\":0,\"ticks\":\"\"},\"colorscale\":[[0.0,\"#0d0887\"],[0.1111111111111111,\"#46039f\"],[0.2222222222222222,\"#7201a8\"],[0.3333333333333333,\"#9c179e\"],[0.4444444444444444,\"#bd3786\"],[0.5555555555555556,\"#d8576b\"],[0.6666666666666666,\"#ed7953\"],[0.7777777777777778,\"#fb9f3a\"],[0.8888888888888888,\"#fdca26\"],[1.0,\"#f0f921\"]]}],\"heatmapgl\":[{\"type\":\"heatmapgl\",\"colorbar\":{\"outlinewidth\":0,\"ticks\":\"\"},\"colorscale\":[[0.0,\"#0d0887\"],[0.1111111111111111,\"#46039f\"],[0.2222222222222222,\"#7201a8\"],[0.3333333333333333,\"#9c179e\"],[0.4444444444444444,\"#bd3786\"],[0.5555555555555556,\"#d8576b\"],[0.6666666666666666,\"#ed7953\"],[0.7777777777777778,\"#fb9f3a\"],[0.8888888888888888,\"#fdca26\"],[1.0,\"#f0f921\"]]}],\"contourcarpet\":[{\"type\":\"contourcarpet\",\"colorbar\":{\"outlinewidth\":0,\"ticks\":\"\"}}],\"contour\":[{\"type\":\"contour\",\"colorbar\":{\"outlinewidth\":0,\"ticks\":\"\"},\"colorscale\":[[0.0,\"#0d0887\"],[0.1111111111111111,\"#46039f\"],[0.2222222222222222,\"#7201a8\"],[0.3333333333333333,\"#9c179e\"],[0.4444444444444444,\"#bd3786\"],[0.5555555555555556,\"#d8576b\"],[0.6666666666666666,\"#ed7953\"],[0.7777777777777778,\"#fb9f3a\"],[0.8888888888888888,\"#fdca26\"],[1.0,\"#f0f921\"]]}],\"surface\":[{\"type\":\"surface\",\"colorbar\":{\"outlinewidth\":0,\"ticks\":\"\"},\"colorscale\":[[0.0,\"#0d0887\"],[0.1111111111111111,\"#46039f\"],[0.2222222222222222,\"#7201a8\"],[0.3333333333333333,\"#9c179e\"],[0.4444444444444444,\"#bd3786\"],[0.5555555555555556,\"#d8576b\"],[0.6666666666666666,\"#ed7953\"],[0.7777777777777778,\"#fb9f3a\"],[0.8888888888888888,\"#fdca26\"],[1.0,\"#f0f921\"]]}],\"mesh3d\":[{\"type\":\"mesh3d\",\"colorbar\":{\"outlinewidth\":0,\"ticks\":\"\"}}],\"scatter\":[{\"fillpattern\":{\"fillmode\":\"overlay\",\"size\":10,\"solidity\":0.2},\"type\":\"scatter\"}],\"parcoords\":[{\"type\":\"parcoords\",\"line\":{\"colorbar\":{\"outlinewidth\":0,\"ticks\":\"\"}}}],\"scatterpolargl\":[{\"type\":\"scatterpolargl\",\"marker\":{\"colorbar\":{\"outlinewidth\":0,\"ticks\":\"\"}}}],\"bar\":[{\"error_x\":{\"color\":\"#2a3f5f\"},\"error_y\":{\"color\":\"#2a3f5f\"},\"marker\":{\"line\":{\"color\":\"#E5ECF6\",\"width\":0.5},\"pattern\":{\"fillmode\":\"overlay\",\"size\":10,\"solidity\":0.2}},\"type\":\"bar\"}],\"scattergeo\":[{\"type\":\"scattergeo\",\"marker\":{\"colorbar\":{\"outlinewidth\":0,\"ticks\":\"\"}}}],\"scatterpolar\":[{\"type\":\"scatterpolar\",\"marker\":{\"colorbar\":{\"outlinewidth\":0,\"ticks\":\"\"}}}],\"histogram\":[{\"marker\":{\"pattern\":{\"fillmode\":\"overlay\",\"size\":10,\"solidity\":0.2}},\"type\":\"histogram\"}],\"scattergl\":[{\"type\":\"scattergl\",\"marker\":{\"colorbar\":{\"outlinewidth\":0,\"ticks\":\"\"}}}],\"scatter3d\":[{\"type\":\"scatter3d\",\"line\":{\"colorbar\":{\"outlinewidth\":0,\"ticks\":\"\"}},\"marker\":{\"colorbar\":{\"outlinewidth\":0,\"ticks\":\"\"}}}],\"scattermapbox\":[{\"type\":\"scattermapbox\",\"marker\":{\"colorbar\":{\"outlinewidth\":0,\"ticks\":\"\"}}}],\"scatterternary\":[{\"type\":\"scatterternary\",\"marker\":{\"colorbar\":{\"outlinewidth\":0,\"ticks\":\"\"}}}],\"scattercarpet\":[{\"type\":\"scattercarpet\",\"marker\":{\"colorbar\":{\"outlinewidth\":0,\"ticks\":\"\"}}}],\"carpet\":[{\"aaxis\":{\"endlinecolor\":\"#2a3f5f\",\"gridcolor\":\"white\",\"linecolor\":\"white\",\"minorgridcolor\":\"white\",\"startlinecolor\":\"#2a3f5f\"},\"baxis\":{\"endlinecolor\":\"#2a3f5f\",\"gridcolor\":\"white\",\"linecolor\":\"white\",\"minorgridcolor\":\"white\",\"startlinecolor\":\"#2a3f5f\"},\"type\":\"carpet\"}],\"table\":[{\"cells\":{\"fill\":{\"color\":\"#EBF0F8\"},\"line\":{\"color\":\"white\"}},\"header\":{\"fill\":{\"color\":\"#C8D4E3\"},\"line\":{\"color\":\"white\"}},\"type\":\"table\"}],\"barpolar\":[{\"marker\":{\"line\":{\"color\":\"#E5ECF6\",\"width\":0.5},\"pattern\":{\"fillmode\":\"overlay\",\"size\":10,\"solidity\":0.2}},\"type\":\"barpolar\"}],\"pie\":[{\"automargin\":true,\"type\":\"pie\"}]},\"layout\":{\"autotypenumbers\":\"strict\",\"colorway\":[\"#636efa\",\"#EF553B\",\"#00cc96\",\"#ab63fa\",\"#FFA15A\",\"#19d3f3\",\"#FF6692\",\"#B6E880\",\"#FF97FF\",\"#FECB52\"],\"font\":{\"color\":\"#2a3f5f\"},\"hovermode\":\"closest\",\"hoverlabel\":{\"align\":\"left\"},\"paper_bgcolor\":\"white\",\"plot_bgcolor\":\"#E5ECF6\",\"polar\":{\"bgcolor\":\"#E5ECF6\",\"angularaxis\":{\"gridcolor\":\"white\",\"linecolor\":\"white\",\"ticks\":\"\"},\"radialaxis\":{\"gridcolor\":\"white\",\"linecolor\":\"white\",\"ticks\":\"\"}},\"ternary\":{\"bgcolor\":\"#E5ECF6\",\"aaxis\":{\"gridcolor\":\"white\",\"linecolor\":\"white\",\"ticks\":\"\"},\"baxis\":{\"gridcolor\":\"white\",\"linecolor\":\"white\",\"ticks\":\"\"},\"caxis\":{\"gridcolor\":\"white\",\"linecolor\":\"white\",\"ticks\":\"\"}},\"coloraxis\":{\"colorbar\":{\"outlinewidth\":0,\"ticks\":\"\"}},\"colorscale\":{\"sequential\":[[0.0,\"#0d0887\"],[0.1111111111111111,\"#46039f\"],[0.2222222222222222,\"#7201a8\"],[0.3333333333333333,\"#9c179e\"],[0.4444444444444444,\"#bd3786\"],[0.5555555555555556,\"#d8576b\"],[0.6666666666666666,\"#ed7953\"],[0.7777777777777778,\"#fb9f3a\"],[0.8888888888888888,\"#fdca26\"],[1.0,\"#f0f921\"]],\"sequentialminus\":[[0.0,\"#0d0887\"],[0.1111111111111111,\"#46039f\"],[0.2222222222222222,\"#7201a8\"],[0.3333333333333333,\"#9c179e\"],[0.4444444444444444,\"#bd3786\"],[0.5555555555555556,\"#d8576b\"],[0.6666666666666666,\"#ed7953\"],[0.7777777777777778,\"#fb9f3a\"],[0.8888888888888888,\"#fdca26\"],[1.0,\"#f0f921\"]],\"diverging\":[[0,\"#8e0152\"],[0.1,\"#c51b7d\"],[0.2,\"#de77ae\"],[0.3,\"#f1b6da\"],[0.4,\"#fde0ef\"],[0.5,\"#f7f7f7\"],[0.6,\"#e6f5d0\"],[0.7,\"#b8e186\"],[0.8,\"#7fbc41\"],[0.9,\"#4d9221\"],[1,\"#276419\"]]},\"xaxis\":{\"gridcolor\":\"white\",\"linecolor\":\"white\",\"ticks\":\"\",\"title\":{\"standoff\":15},\"zerolinecolor\":\"white\",\"automargin\":true,\"zerolinewidth\":2},\"yaxis\":{\"gridcolor\":\"white\",\"linecolor\":\"white\",\"ticks\":\"\",\"title\":{\"standoff\":15},\"zerolinecolor\":\"white\",\"automargin\":true,\"zerolinewidth\":2},\"scene\":{\"xaxis\":{\"backgroundcolor\":\"#E5ECF6\",\"gridcolor\":\"white\",\"linecolor\":\"white\",\"showbackground\":true,\"ticks\":\"\",\"zerolinecolor\":\"white\",\"gridwidth\":2},\"yaxis\":{\"backgroundcolor\":\"#E5ECF6\",\"gridcolor\":\"white\",\"linecolor\":\"white\",\"showbackground\":true,\"ticks\":\"\",\"zerolinecolor\":\"white\",\"gridwidth\":2},\"zaxis\":{\"backgroundcolor\":\"#E5ECF6\",\"gridcolor\":\"white\",\"linecolor\":\"white\",\"showbackground\":true,\"ticks\":\"\",\"zerolinecolor\":\"white\",\"gridwidth\":2}},\"shapedefaults\":{\"line\":{\"color\":\"#2a3f5f\"}},\"annotationdefaults\":{\"arrowcolor\":\"#2a3f5f\",\"arrowhead\":0,\"arrowwidth\":1},\"geo\":{\"bgcolor\":\"white\",\"landcolor\":\"#E5ECF6\",\"subunitcolor\":\"white\",\"showland\":true,\"showlakes\":true,\"lakecolor\":\"white\"},\"title\":{\"x\":0.05},\"mapbox\":{\"style\":\"light\"}}},\"xaxis\":{\"anchor\":\"y\",\"domain\":[0.0,1.0],\"title\":{\"text\":\"month\"}},\"yaxis\":{\"anchor\":\"x\",\"domain\":[0.0,1.0],\"title\":{\"text\":\"areas\"}},\"legend\":{\"title\":{\"text\":\"year\"},\"tracegroupgap\":0},\"margin\":{\"t\":60}},                        {\"responsive\": true}                    ).then(function(){\n",
       "                            \n",
       "var gd = document.getElementById('8f1d62e9-87c4-4703-9368-27a72a16006a');\n",
       "var x = new MutationObserver(function (mutations, observer) {{\n",
       "        var display = window.getComputedStyle(gd).display;\n",
       "        if (!display || display === 'none') {{\n",
       "            console.log([gd, 'removed!']);\n",
       "            Plotly.purge(gd);\n",
       "            observer.disconnect();\n",
       "        }}\n",
       "}});\n",
       "\n",
       "// Listen for the removal of the full notebook cells\n",
       "var notebookContainer = gd.closest('#notebook-container');\n",
       "if (notebookContainer) {{\n",
       "    x.observe(notebookContainer, {childList: true});\n",
       "}}\n",
       "\n",
       "// Listen for the clearing of the current output cell\n",
       "var outputEl = gd.closest('.output');\n",
       "if (outputEl) {{\n",
       "    x.observe(outputEl, {childList: true});\n",
       "}}\n",
       "\n",
       "                        })                };                });            </script>        </div>"
      ]
     },
     "metadata": {},
     "output_type": "display_data"
    }
   ],
   "source": [
    "df_filtered = df[df.month.isin([1,2,3, 4])]\n",
    "px.line(df, x='month', y='areas', color = 'year')"
   ]
  },
  {
   "cell_type": "code",
   "execution_count": null,
   "metadata": {},
   "outputs": [],
   "source": []
  }
 ],
 "metadata": {
  "kernelspec": {
   "display_name": "tf",
   "language": "python",
   "name": "python3"
  },
  "language_info": {
   "codemirror_mode": {
    "name": "ipython",
    "version": 3
   },
   "file_extension": ".py",
   "mimetype": "text/x-python",
   "name": "python",
   "nbconvert_exporter": "python",
   "pygments_lexer": "ipython3",
   "version": "3.9.16"
  },
  "orig_nbformat": 4
 },
 "nbformat": 4,
 "nbformat_minor": 2
}
